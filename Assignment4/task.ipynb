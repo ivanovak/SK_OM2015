{
 "cells": [
  {
   "cell_type": "markdown",
   "metadata": {},
   "source": [
    "# Homework 4: robotic navigation\n",
    "\n",
    "**Preamble**: You have built a robot for navigating in an indoor environment. The environments you consider have flat floors, so that the whole task is always two-dimensional. The robot has a sensing capability, as it can sense a location with respect to special beacons. You have given a robot to a friend, who uses it to map different interiors. To do the mapping, your friend places beacons at the perimeter of the interior, and then moves the robot through some trajectory.\n",
    "Every so often the robot stops, uses its compass to align itself with the direction to the north and then tries to sense the location of the beacons (relative to the robot's current position). Typically, it manages to locate several closest beacons. Your friend has conducted three experiments in three different interiors. You need to recover the location of beacons and the locations of the robot (where the measurements have been taken). \n",
    "From each experiment you get four arrays of measurements: **'beacons', 'robots', 'x', 'y'**. It is interpreted as follows: while the robot is in the position number **'robots[i]'**, it senses the beacon number 'beacons(i)', and the beacon is displaced by **'x[i]'** and **'y[i]'** from the robot's position. For each robot position, the robot senses several beacons. This data should be sufficient to recover the positions of the robot and of the beacons (up to a global translation, that does not matter for the purposes of your friend). \n",
    "\n",
    "**Experiment one (task1.mat) - 1 point:** This is the simplest environment (a room with a simple shape), the robot sensor works well (although a certain amount of Gaussian noise is present). The reconstruction can be reduced to solving a simple least-squares problem. Hint: use linear least-squares. Avoid using the explicit inversion of matrix. Instead, use *numpy.linalg.lstsq* to solve equations. Note that *numpy.linalg.lstsq* might add a (small) regularization to the system. Try using inversion (*'numpy.linalg.inv'*) to see how the reconstruction performs without regularization.\n"
   ]
  },
  {
   "cell_type": "markdown",
   "metadata": {},
   "source": [
    "__Solution__\n",
    "Here we will solve the equation $Ax=b$ where $x = (x_1, y_1, x_2, y_2, \\dots, x_n, y_n, a_1, b_1, a_2, b_2, \\dots, a_m, b_m)^T$ and $x_i, y_i$ are beacons coordinates and $a_i, b_i$ are robot $i$'th position coordinates. Here's what equation will be produced with a single row of $A$:\n",
    "$$x_i - a_j = x^{t}_i,$$ or\n",
    "$$y_i - b_j = y^{t}_i$$\n",
    "here $x^{t}_i$ and $y^{t}_i$ are $t$'th observations of $i$'th beaconcoordinates."
   ]
  },
  {
   "cell_type": "code",
   "execution_count": 83,
   "metadata": {
    "collapsed": false
   },
   "outputs": [
    {
     "data": {
      "image/png": "[encoded data removed]",
      "text/plain": [
       "<matplotlib.figure.Figure at 0x7fdd8b8ac4d0>"
      ]
     },
     "metadata": {},
     "output_type": "display_data"
    }
   ],
   "source": [
    "import pandas as pd\n",
    "import scipy.io as sio\n",
    "import numpy as np\n",
    "from scipy.sparse import csr_matrix\n",
    "import matplotlib.pyplot as plt\n",
    "\n",
    "%matplotlib inline\n",
    "\n",
    "mat_contents = sio.loadmat('task1.mat')\n",
    "\n",
    "beacons = mat_contents['beacons']\n",
    "robots = mat_contents['robots']\n",
    "x = mat_contents['x']\n",
    "y = mat_contents['y']\n",
    "\n",
    "beacons_len = len(np.unique(beacons))\n",
    "robots_len = len(np.unique(robots))\n",
    "\n",
    "m = 2*(beacons_len + robots_len) # number of unknowns\n",
    "\n",
    "A = np.array([]).reshape((0, m))\n",
    "b = np.array([]).reshape((0, 1))\n",
    "\n",
    "for i in np.unique(robots):\n",
    "    n = len(filter(lambda x: x == i, robots)) # number of observations on the i\n",
    "    beac = beacons[:n]\n",
    "    beacons = beacons[n:]\n",
    "    bx, by = x[:n], y[:n]\n",
    "    x, y = x[n:], y[n:]\n",
    "    \n",
    "    for j in xrange(n):\n",
    "        # A matrix new row for 'x'\n",
    "        a = np.zeros(m) \n",
    "        a[(beac[j] - 1) * 2] = 1\n",
    "        a[beacons_len * 2 + (i - 1) * 2] = -1\n",
    "        A = np.vstack((A, a))\n",
    "        # A matrix new row for 'y'\n",
    "        a = np.zeros(m)\n",
    "        a[(beac[j] - 1) * 2 + 1] = 1\n",
    "        a[beacons_len * 2 + (i - 1) * 2 + 1] = -1\n",
    "        A = np.vstack((A, a))\n",
    "        # update b\n",
    "        b = np.vstack((b, bx[j]))\n",
    "        b = np.vstack((b, by[j]))\n",
    "\n",
    "def scatter(res):\n",
    "    beacon_x = res[0:-robots_len*2][0::2]\n",
    "    beacon_y = res[0:-robots_len*2][1::2]\n",
    "\n",
    "    plt.scatter(beacon_x, beacon_y, color = 'red')\n",
    "\n",
    "    robot_x = res[beacons_len * 2:][0::2]\n",
    "    robot_y = res[beacons_len * 2:][1::2]\n",
    "\n",
    "    plt.scatter(robot_x, robot_y, color = 'blue')\n",
    "\n",
    "x = np.linalg.lstsq(A, b)[0]\n",
    "scatter(x)"
   ]
  },
  {
   "cell_type": "code",
   "execution_count": 80,
   "metadata": {
    "collapsed": false
   },
   "outputs": [
    {
     "data": {
      "text/plain": [
       "[1, 2, 3, 4]"
      ]
     },
     "execution_count": 80,
     "metadata": {},
     "output_type": "execute_result"
    }
   ],
   "source": [
    "t = [1,2,3,4,5,6,7,8,9,10]\n",
    "t[0:2*2]"
   ]
  },
  {
   "cell_type": "markdown",
   "metadata": {
    "collapsed": true
   },
   "source": [
    "** Experiment two (task2.mat) - 4 points: ** This is a more complex environment. On top of that, there are strong electrical currents under the floor, so that the compass on the robot makes significant errors, so that the robot is not perfectly oriented. Thus, in addition to robot positions you would also need to recover robot orientations. *Hint and instructions:* you can still try to solve the problem as if the robot is perfectly oriented. You can then use what you obtain as an initialization to the non-linear initialization (angles can be initialized at zero). For the non-linear optimization, you should use non-linear least-squares. You can then either code Levenberg-Marquardt method yourself or figure out how to use *'scipy.optimize'*. In the latter case, to get the points, your final version must provide the python's routine with a Jacobian computed (analytically) by your code.\n"
   ]
  },
  {
   "cell_type": "code",
   "execution_count": 4,
   "metadata": {
    "collapsed": false
   },
   "outputs": [],
   "source": [
    "import scipy.io as sio\n",
    "\n",
    "mat_contents = sio.loadmat('task2.mat')\n",
    "\n",
    "beacons = mat_contents['beacons']\n",
    "robots = mat_contents['robots']\n",
    "x = mat_contents['x']\n",
    "y = mat_contents['y']\n"
   ]
  },
  {
   "cell_type": "markdown",
   "metadata": {
    "collapsed": true
   },
   "source": [
    "** Experiment three (task3.mat) - 6 points: **  This is another complex environment. On top of the complications from the previous experiment, your robot beacon identification system is now working imperfectly, so that every so often (say, in 3% cases), the robot would confuse the number of the beacon that it observes. You have to make your reconstruction algorithm robust to such mistakes.  Instruction: use non-linear optimization *scipy.optimize* in python (you get 2 points for any implementation that produces an accurate reconstruction). You are recommended to supply it with an analytically-computed gradient (+2 points). Use the option 'method=BFGS' to make python to use a quasi-Newton BFGS method, play with the number of iterations that are allowed ('options.maxiter') to see the effect; you can also try to provide the algorithm with the Hessian derived analytically. You get +2 points if your approach devised this way will work faster or comparable with quasi-Newton. \n",
    "\n",
    "**Output.** For each experiment, your pdf file should include:\n",
    "*\tA printout of the reconstruction: use e.g. scatter plots with different colors used for beacons and robots positions.\n",
    "*\tAn explanation of what you have tried and what you have observed.\n",
    "Of course, your code should be attached.\n"
   ]
  },
  {
   "cell_type": "code",
   "execution_count": 2,
   "metadata": {
    "collapsed": true
   },
   "outputs": [],
   "source": [
    "import scipy.io as sio\n",
    "\n",
    "mat_contents = sio.loadmat('task3.mat')\n",
    "\n",
    "beacons = mat_contents['beacons']\n",
    "robots = mat_contents['robots']\n",
    "x = mat_contents['x']\n",
    "y = mat_contents['y']"
   ]
  },
  {
   "cell_type": "code",
   "execution_count": null,
   "metadata": {
    "collapsed": true
   },
   "outputs": [],
   "source": []
  }
 ],
 "metadata": {
  "kernelspec": {
   "display_name": "Python 2",
   "language": "python",
   "name": "python2"
  },
  "language_info": {
   "codemirror_mode": {
    "name": "ipython",
    "version": 2
   },
   "file_extension": ".py",
   "mimetype": "text/x-python",
   "name": "python",
   "nbconvert_exporter": "python",
   "pygments_lexer": "ipython2",
   "version": "2.7.10"
  }
 },
 "nbformat": 4,
 "nbformat_minor": 0
}
