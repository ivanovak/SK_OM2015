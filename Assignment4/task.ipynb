{
 "cells": [
  {
   "cell_type": "code",
   "execution_count": null,
   "metadata": {
    "collapsed": true
   },
   "outputs": [],
   "source": [
    "# Homework 4: robotic navigation\n",
    "\n",
    "**Preamble**: You have built a robot for navigating in an indoor environment. The environments you consider have flat floors, so that the whole task is always two-dimensional. The robot has a sensing capability, as it can sense a location with respect to special beacons. You have given a robot to a friend, who uses it to map different interiors. To do the mapping, your friend places beacons at the perimeter of the interior, and then moves the robot through some trajectory.\n",
    "Every so often the robot stops, uses its compass to align itself with the direction to the north and then tries to sense the location of the beacons (relative to the robot's current position). Typically, it manages to locate several closest beacons. Your friend has conducted three experiments in three different interiors. You need to recover the location of beacons and the locations of the robot (where the measurements have been taken). \n",
    "From each experiment you get four arrays of measurements: **'beacons', 'robots', 'x', 'y'**. It is interpreted as follows: while the robot is in the position number **'robots[i]'**, it senses the beacon number 'beacons(i)', and the beacon is displaced by **'x[i]'** and **'y[i]'** from the robot's position. For each robot position, the robot senses several beacons. This data should be sufficient to recover the positions of the robot and of the beacons (up to a global translation, that does not matter for the purposes of your friend). \n",
    "\n",
    "**Experiment one (task1.mat) - 1 point:** This is the simplest environment (a room with a simple shape), the robot sensor works well (although a certain amount of Gaussian noise is present). The reconstruction can be reduced to solving a simple least-squares problem. Hint: use linear least-squares. Avoid using the explicit inversion of matrix. Instead, use *numpy.linalg.lstsq* to solve equations. Note that *numpy.linalg.lstsq* might add a (small) regularization to the system. Try using inversion (*'numpy.linalg.inv'*) to see how the reconstruction performs without regularization.\n"
   ]
  },
  {
   "cell_type": "markdown",
   "metadata": {},
   "source": [
    "__Solution__\n",
    "Here we will solve the equation $Ax=b$ where $x = (x_1, y_1, x_2, y_2, \\dots, x_n, y_n, a_1, b_1, a_2, b_2, \\dots, a_m, b_m)^T$ and $x_i, y_i$ are beacons coordinates and $a_i, b_i$ are robot $i$'th position coordinates. Here's what equation will be produced with a single row of $A$:\n",
    "$$x_i - a_j = x^{t}_i,$$ or\n",
    "$$y_i - b_j = y^{t}_i$$\n",
    "here $x^{t}_i$ and $y^{t}_i$ are $t$'th observations of $i$'th beaconcoordinates."
   ]
  },
  {
   "cell_type": "code",
   "execution_count": 457,
   "metadata": {
    "collapsed": false
   },
   "outputs": [
    {
     "data": {
      "image/png": "[encoded data removed]",
      "text/plain": [
       "<matplotlib.figure.Figure at 0x7f19377e1b50>"
      ]
     },
     "metadata": {},
     "output_type": "display_data"
    }
   ],
   "source": [
    "import pandas as pd\n",
    "import scipy.io as sio\n",
    "import numpy as np\n",
    "from scipy.sparse import csr_matrix\n",
    "import matplotlib.pyplot as plt\n",
    "\n",
    "%matplotlib inline\n",
    "\n",
    "mat_contents = sio.loadmat('task1.mat')\n",
    "\n",
    "beacons = mat_contents['beacons']\n",
    "robots = mat_contents['robots']\n",
    "x = mat_contents['x']\n",
    "y = mat_contents['y']\n",
    "\n",
    "beacons_len = len(np.unique(beacons))\n",
    "robots_len = len(np.unique(robots))\n",
    "\n",
    "m = 2*(beacons_len + robots_len) # number of unknowns\n",
    "\n",
    "A = np.array([]).reshape((0, m))\n",
    "b = np.array([]).reshape((0, 1))\n",
    "\n",
    "for i in np.unique(robots):\n",
    "    n = len(filter(lambda x: x == i, robots))\n",
    "    beac = beacons[:n]\n",
    "    beacons = beacons[n:]\n",
    "    bx, by = x[:n], y[:n]\n",
    "    x, y = x[n:], y[n:]\n",
    "    \n",
    "    for j in xrange(n):\n",
    "        # A matrix new row for 'x'\n",
    "        a = np.zeros(m) \n",
    "        a[(beac[j] - 1) * 2] = 1\n",
    "        a[beacons_len * 2 + (i - 1) * 2] = -1\n",
    "        A = np.vstack((A, a))\n",
    "        # A matrix new row for 'y'\n",
    "        a = np.zeros(m)\n",
    "        a[(beac[j] - 1) * 2 + 1] = 1\n",
    "        a[beacons_len * 2 + (i - 1) * 2 + 1] = -1\n",
    "        A = np.vstack((A, a))\n",
    "        # update b\n",
    "        b = np.vstack((b, bx[j]))\n",
    "        b = np.vstack((b, by[j]))\n",
    "\n",
    "def get_robotnbeacon_xy(res, robots_len, beacons_len):\n",
    "    beacon_x = res[0:-robots_len*2][0::2]\n",
    "    beacon_y = res[0:-robots_len*2][1::2]\n",
    "    robot_x = res[beacons_len * 2:][0::2]\n",
    "    robot_y = res[beacons_len * 2:][1::2]\n",
    "    \n",
    "    return [robot_x, robot_y, beacon_x, beacon_y]\n",
    "        \n",
    "def scatter(res):\n",
    "    robot_x, robot_y, beacon_x, beacon_y = get_robotnbeacon_xy(res, robots_len, beacons_len)\n",
    "\n",
    "    beacons = plt.scatter(beacon_x, beacon_y, color = 'blue')\n",
    "    robots = plt.scatter(robot_x, robot_y, color = 'red')\n",
    "    \n",
    "    plt.legend((beacons, robots),\n",
    "           ('Beacon', 'Robot'),\n",
    "           scatterpoints=1,\n",
    "           loc='lower left',\n",
    "           ncol=3,\n",
    "           fontsize=8)\n",
    "\n",
    "bc = b.copy()\n",
    "x = np.linalg.lstsq(A, b)[0]\n",
    "b = bc\n",
    "scatter(x)\n"
   ]
  },
  {
   "cell_type": "markdown",
   "metadata": {},
   "source": [
    "Ok. `numpy.linalg.lstsq` does it well. Now let's try with no regularization."
   ]
  },
  {
   "cell_type": "code",
   "execution_count": 34,
   "metadata": {
    "collapsed": false
   },
   "outputs": [
    {
     "data": {
      "image/png": "[encoded data removed]",
      "text/plain": [
       "<matplotlib.figure.Figure at 0x7f19379de410>"
      ]
     },
     "metadata": {},
     "output_type": "display_data"
    }
   ],
   "source": [
    "A_t = A.T\n",
    "AtA_inv = np.linalg.inv(A.T.dot(A)) # Gram-matrix inv\n",
    "x = AtA_inv.dot(A_t).dot(b)\n",
    "scatter(x)"
   ]
  },
  {
   "cell_type": "code",
   "execution_count": 35,
   "metadata": {
    "collapsed": false
   },
   "outputs": [
    {
     "data": {
      "image/png": "[encoded data removed]",
      "text/plain": [
       "<matplotlib.figure.Figure at 0x7f1937bbca10>"
      ]
     },
     "metadata": {},
     "output_type": "display_data"
    }
   ],
   "source": [
    "A_t = A.T\n",
    "AtA_inv = np.linalg.inv(A.T.dot(A) - 0.499991*np.ones(90)) # With some regularization\n",
    "x = AtA_inv.dot(A_t).dot(b)\n",
    "scatter(x)"
   ]
  },
  {
   "cell_type": "markdown",
   "metadata": {
    "collapsed": true
   },
   "source": [
    "** Experiment two (task2.mat) - 4 points: ** This is a more complex environment. On top of that, there are strong electrical currents under the floor, so that the compass on the robot makes significant errors, so that the robot is not perfectly oriented. Thus, in addition to robot positions you would also need to recover robot orientations. *Hint and instructions:* you can still try to solve the problem as if the robot is perfectly oriented. You can then use what you obtain as an initialization to the non-linear initialization (angles can be initialized at zero). For the non-linear optimization, you should use non-linear least-squares. You can then either code Levenberg-Marquardt method yourself or figure out how to use *'scipy.optimize'*. In the latter case, to get the points, your final version must provide the python's routine with a Jacobian computed (analytically) by your code.\n"
   ]
  },
  {
   "cell_type": "markdown",
   "metadata": {},
   "source": [
    "__Solution__\n",
    "\n",
    "First let's solve the problem as we don't have orientation errors."
   ]
  },
  {
   "cell_type": "code",
   "execution_count": 468,
   "metadata": {
    "collapsed": false,
    "scrolled": false
   },
   "outputs": [
    {
     "data": {
      "image/png": "[encoded data removed]",
      "text/plain": [
       "<matplotlib.figure.Figure at 0x7f193793ef90>"
      ]
     },
     "metadata": {},
     "output_type": "display_data"
    }
   ],
   "source": [
    "import scipy.io as sio\n",
    "\n",
    "mat_contents = sio.loadmat('task2.mat')\n",
    "\n",
    "beacons = mat_contents['beacons']\n",
    "robots = mat_contents['robots']\n",
    "x = mat_contents['x']\n",
    "y = mat_contents['y']\n",
    "\n",
    "beacons_len = len(np.unique(beacons))\n",
    "robots_len = len(np.unique(robots))\n",
    "\n",
    "\n",
    "# initialization vector for the robots rotation angles.\n",
    "p0 = [0 for i in xrange(robots_len)]\n",
    "\n",
    "# here p0 will be robots orientations\n",
    "def solve_oriented(beacons, robots, x, y, p0, show = True):\n",
    "    beacons, robots, x, y = beacons.copy(), robots.copy(), x.copy(), y.copy()\n",
    "    \n",
    "    beacons_len = len(np.unique(beacons))\n",
    "    robots_len = len(np.unique(robots))\n",
    "\n",
    "    m = 2*(beacons_len + robots_len) # number of unknowns\n",
    "\n",
    "    A = np.array([]).reshape((0, m))\n",
    "    b = np.array([]).reshape((0, 1))\n",
    "\n",
    "    for i in np.unique(robots):\n",
    "        n = len(filter(lambda x: x == i, robots))\n",
    "        beac = beacons[:n]\n",
    "        beacons = beacons[n:]\n",
    "        bx, by = x[:n], y[:n]\n",
    "        x, y = x[n:], y[n:]\n",
    "\n",
    "        for j in xrange(n):\n",
    "            a = np.zeros(m) \n",
    "            a[(beac[j] - 1) * 2] = 1\n",
    "            a[beacons_len * 2 + (i - 1) * 2] = -1\n",
    "            A = np.vstack((A, a))\n",
    "            a = np.zeros(m)\n",
    "            a[(beac[j] - 1) * 2 + 1] = 1\n",
    "            a[beacons_len * 2 + (i - 1) * 2 + 1] = -1\n",
    "            A = np.vstack((A, a))\n",
    "            \n",
    "            alpha = p0[i - 1]\n",
    "            nbx = cos(alpha)*bx[j] - sin(alpha)*by[j]\n",
    "            nby = sin(alpha)*bx[j] + cos(alpha)*by[j]\n",
    "            \n",
    "            b = np.vstack((b, nbx))\n",
    "            b = np.vstack((b, nby))\n",
    "\n",
    "    # constraint for one of the robots to be in (0, 0)\n",
    "    a1, a2 = np.zeros(m), np.zeros(m) \n",
    "    a1[beacons_len * 2 + (robots_len - 1) * 2] = 1\n",
    "    a2[beacons_len * 2 + (robots_len - 1) * 2 + 1] = 1\n",
    "\n",
    "    b = np.vstack((b, 0))\n",
    "    b = np.vstack((b, 0))\n",
    "    A = np.vstack((A, a1))\n",
    "    A = np.vstack((A, a2))\n",
    "    \n",
    "    bc = b.copy()\n",
    "\n",
    "    x_res = np.linalg.lstsq(A, b)[0]\n",
    "    \n",
    "    if show:\n",
    "        scatter(x_res)\n",
    "        \n",
    "    return x_res, bc, A\n",
    "\n",
    "x_res, bc, A = solve_oriented(beacons, robots, x, y, p0)"
   ]
  },
  {
   "cell_type": "markdown",
   "metadata": {},
   "source": [
    "Lets now fit the angles vector by solving non-linear least squares."
   ]
  },
  {
   "cell_type": "code",
   "execution_count": 255,
   "metadata": {
    "collapsed": false
   },
   "outputs": [
    {
     "name": "stdout",
     "output_type": "stream",
     "text": [
      "[ 1  2  3  4  5  6  7  8  9 10 11 12 13 14 15 16 17 18 19 20 21 22 23 24 25\n",
      " 26 27 28 29 30 31 32 33 34 35]\n"
     ]
    }
   ],
   "source": [
    "print np.unique(robots)"
   ]
  },
  {
   "cell_type": "code",
   "execution_count": 469,
   "metadata": {
    "collapsed": false
   },
   "outputs": [
    {
     "name": "stdout",
     "output_type": "stream",
     "text": [
      "Rotation angles: [ 0.385597    0.03277334 -0.5053925  -0.53519295  0.3186271  -0.20908429\n",
      "  0.27988302  0.42862011  0.01906738 -0.21068529  0.1309129   0.02687306\n",
      " -0.16897593  0.21010655 -0.52080974 -0.4869435   0.4477739   0.47726777\n",
      " -0.04465405 -0.19189147  0.32942154  0.00378547 -0.51372111 -0.30994008\n",
      " -0.23418164  0.38717864 -0.56156221 -0.10036822  0.09364477  0.06415518\n",
      " -0.20026485  0.62694608  0.58906562  0.29783569 -0.3365961 ]\n"
     ]
    }
   ],
   "source": [
    "from scipy.optimize import leastsq\n",
    "from numpy.linalg import norm\n",
    "from numpy import cos, sin\n",
    "from scipy.optimize import curve_fit\n",
    "import pandas as pd\n",
    "\n",
    "beacons = mat_contents['beacons']\n",
    "robots = mat_contents['robots']\n",
    "x = mat_contents['x']\n",
    "y = mat_contents['y']\n",
    "\n",
    "beacons_len = len(np.unique(beacons))\n",
    "robots_len = len(np.unique(robots))\n",
    "\n",
    "# f is computing the Ax=b residuals after \n",
    "# the rotation of each i-th robot on p0_i\n",
    "def f(p, x_res):\n",
    "    global beacons, robots, x, y, A\n",
    "\n",
    "    b = np.array([]).reshape((0, 1))\n",
    "    \n",
    "    for i in xrange(len(robots)):\n",
    "        alpha = p[robots[i] - 1]\n",
    "        nbx = cos(alpha)*x[i] - sin(alpha)*y[i]\n",
    "        nby = sin(alpha)*x[i] + cos(alpha)*y[i]\n",
    "        b = np.vstack((b, nbx))\n",
    "        b = np.vstack((b, nby))\n",
    "    \n",
    "    b = np.vstack((b, 0))\n",
    "    b = np.vstack((b, 0))\n",
    "    \n",
    "    res =  np.dot(A, x_res).reshape(702, 1) - b.reshape(702,1)\n",
    "\n",
    "    return res.flatten()\n",
    "\n",
    "#popt, ph = curve_fit(f, x_res.flatten(), np.zeros(702), p0 = p0)\n",
    "popt = leastsq(f, p0, args=(x_res.flatten()))[0]\n",
    "\n",
    "print \"Rotation angles:\", popt"
   ]
  },
  {
   "cell_type": "markdown",
   "metadata": {},
   "source": [
    "Ok. Lets now rotate all the robots to the north and recompute coordinates of the beacons."
   ]
  },
  {
   "cell_type": "code",
   "execution_count": 470,
   "metadata": {
    "collapsed": false
   },
   "outputs": [
    {
     "data": {
      "image/png": "[encoded data removed]",
      "text/plain": [
       "<matplotlib.figure.Figure at 0x7f1947302350>"
      ]
     },
     "metadata": {},
     "output_type": "display_data"
    }
   ],
   "source": [
    "beacons = mat_contents['beacons']\n",
    "robots = mat_contents['robots']\n",
    "x = mat_contents['x']\n",
    "y = mat_contents['y']\n",
    "\n",
    "x_res2, bc2, A2 = solve_oriented(beacons, robots, x, y, popt)"
   ]
  },
  {
   "cell_type": "markdown",
   "metadata": {},
   "source": [
    "It's now looking better. Lets provide a Jacobian to our solver.\n",
    "$$\\nabla F(p) = J^Tr(p)$$\n",
    "$$J^T_{[X\\times p]},$$ X - observations, p - our parameters (X = 702, p = 35)\n",
    "\n",
    "Here's how $(i, j)$ element looks like in the Jacobian matrix: \n",
    "$$\\frac{\\partial f(x_i, w)}{\\partial w_j} = \\left[R^{'}_{w_j}(-w_j)(coord_{global}-coord_{robot})\\right]_{x/y},$$ if `robots[i] == j`\n"
   ]
  },
  {
   "cell_type": "code",
   "execution_count": 471,
   "metadata": {
    "collapsed": false
   },
   "outputs": [
    {
     "name": "stdout",
     "output_type": "stream",
     "text": [
      "Optimization terminated successfully.\n"
     ]
    },
    {
     "ename": "TypeError",
     "evalue": "float argument required, not numpy.ndarray",
     "output_type": "error",
     "traceback": [
      "\u001b[1;31m---------------------------------------------------------------------------\u001b[0m",
      "\u001b[1;31mTypeError\u001b[0m                                 Traceback (most recent call last)",
      "\u001b[1;32m<ipython-input-471-e56c433ff6eb>\u001b[0m in \u001b[0;36m<module>\u001b[1;34m()\u001b[0m\n\u001b[0;32m      9\u001b[0m \u001b[1;31m#popt = leastsq(f, p0, Dfun = jacobian, args=(x_res.flatten()))[0] #, col_deriv=1\u001b[0m\u001b[1;33m\u001b[0m\u001b[1;33m\u001b[0m\u001b[0m\n\u001b[0;32m     10\u001b[0m popt = minimize(f, p_init, args=(x_res.flatten(),), method='BFGS', jac=fd,\n\u001b[1;32m---> 11\u001b[1;33m                     options={'gtol': 1e-6, 'disp': True})\n\u001b[0m",
      "\u001b[1;32m/home/ai/anaconda2/lib/python2.7/site-packages/scipy/optimize/_minimize.pyc\u001b[0m in \u001b[0;36mminimize\u001b[1;34m(fun, x0, args, method, jac, hess, hessp, bounds, constraints, tol, callback, options)\u001b[0m\n\u001b[0;32m    417\u001b[0m         \u001b[1;32mreturn\u001b[0m \u001b[0m_minimize_cg\u001b[0m\u001b[1;33m(\u001b[0m\u001b[0mfun\u001b[0m\u001b[1;33m,\u001b[0m \u001b[0mx0\u001b[0m\u001b[1;33m,\u001b[0m \u001b[0margs\u001b[0m\u001b[1;33m,\u001b[0m \u001b[0mjac\u001b[0m\u001b[1;33m,\u001b[0m \u001b[0mcallback\u001b[0m\u001b[1;33m,\u001b[0m \u001b[1;33m**\u001b[0m\u001b[0moptions\u001b[0m\u001b[1;33m)\u001b[0m\u001b[1;33m\u001b[0m\u001b[0m\n\u001b[0;32m    418\u001b[0m     \u001b[1;32melif\u001b[0m \u001b[0mmeth\u001b[0m \u001b[1;33m==\u001b[0m \u001b[1;34m'bfgs'\u001b[0m\u001b[1;33m:\u001b[0m\u001b[1;33m\u001b[0m\u001b[0m\n\u001b[1;32m--> 419\u001b[1;33m         \u001b[1;32mreturn\u001b[0m \u001b[0m_minimize_bfgs\u001b[0m\u001b[1;33m(\u001b[0m\u001b[0mfun\u001b[0m\u001b[1;33m,\u001b[0m \u001b[0mx0\u001b[0m\u001b[1;33m,\u001b[0m \u001b[0margs\u001b[0m\u001b[1;33m,\u001b[0m \u001b[0mjac\u001b[0m\u001b[1;33m,\u001b[0m \u001b[0mcallback\u001b[0m\u001b[1;33m,\u001b[0m \u001b[1;33m**\u001b[0m\u001b[0moptions\u001b[0m\u001b[1;33m)\u001b[0m\u001b[1;33m\u001b[0m\u001b[0m\n\u001b[0m\u001b[0;32m    420\u001b[0m     \u001b[1;32melif\u001b[0m \u001b[0mmeth\u001b[0m \u001b[1;33m==\u001b[0m \u001b[1;34m'newton-cg'\u001b[0m\u001b[1;33m:\u001b[0m\u001b[1;33m\u001b[0m\u001b[0m\n\u001b[0;32m    421\u001b[0m         return _minimize_newtoncg(fun, x0, args, jac, hess, hessp, callback,\n",
      "\u001b[1;32m/home/ai/anaconda2/lib/python2.7/site-packages/scipy/optimize/optimize.pyc\u001b[0m in \u001b[0;36m_minimize_bfgs\u001b[1;34m(fun, x0, args, jac, callback, gtol, norm, eps, maxiter, disp, return_all, **unknown_options)\u001b[0m\n\u001b[0;32m    915\u001b[0m         \u001b[1;32mif\u001b[0m \u001b[0mdisp\u001b[0m\u001b[1;33m:\u001b[0m\u001b[1;33m\u001b[0m\u001b[0m\n\u001b[0;32m    916\u001b[0m             \u001b[1;32mprint\u001b[0m\u001b[1;33m(\u001b[0m\u001b[0mmsg\u001b[0m\u001b[1;33m)\u001b[0m\u001b[1;33m\u001b[0m\u001b[0m\n\u001b[1;32m--> 917\u001b[1;33m             \u001b[1;32mprint\u001b[0m\u001b[1;33m(\u001b[0m\u001b[1;34m\"         Current function value: %f\"\u001b[0m \u001b[1;33m%\u001b[0m \u001b[0mfval\u001b[0m\u001b[1;33m)\u001b[0m\u001b[1;33m\u001b[0m\u001b[0m\n\u001b[0m\u001b[0;32m    918\u001b[0m             \u001b[1;32mprint\u001b[0m\u001b[1;33m(\u001b[0m\u001b[1;34m\"         Iterations: %d\"\u001b[0m \u001b[1;33m%\u001b[0m \u001b[0mk\u001b[0m\u001b[1;33m)\u001b[0m\u001b[1;33m\u001b[0m\u001b[0m\n\u001b[0;32m    919\u001b[0m             \u001b[1;32mprint\u001b[0m\u001b[1;33m(\u001b[0m\u001b[1;34m\"         Function evaluations: %d\"\u001b[0m \u001b[1;33m%\u001b[0m \u001b[0mfunc_calls\u001b[0m\u001b[1;33m[\u001b[0m\u001b[1;36m0\u001b[0m\u001b[1;33m]\u001b[0m\u001b[1;33m)\u001b[0m\u001b[1;33m\u001b[0m\u001b[0m\n",
      "\u001b[1;31mTypeError\u001b[0m: float argument required, not numpy.ndarray"
     ]
    }
   ],
   "source": [
    "from scipy.optimize import minimize\n",
    "\n",
    "p_init = np.zeros(35)\n",
    "\n",
    "def fd(p, xs): \n",
    "    global beacons, robots, x, y, A\n",
    "    \n",
    "    j = np.zeros((35, 702))\n",
    "    return j.transpose()\n",
    "\n",
    "#popt = leastsq(f, p0, Dfun = jacobian, args=(x_res.flatten()))[0] #, col_deriv=1\n",
    "popt = minimize(f, p_init, args=(x_res.flatten(),), method='BFGS', jac=fd,\n",
    "                    options={'gtol': 1e-6, 'disp': True})"
   ]
  },
  {
   "cell_type": "markdown",
   "metadata": {
    "collapsed": true
   },
   "source": [
    "** Experiment three (task3.mat) - 6 points: **  This is another complex environment. On top of the complications from the previous experiment, your robot beacon identification system is now working imperfectly, so that every so often (say, in 3% cases), the robot would confuse the number of the beacon that it observes. You have to make your reconstruction algorithm robust to such mistakes.  Instruction: use non-linear optimization *scipy.optimize* in python (you get 2 points for any implementation that produces an accurate reconstruction). You are recommended to supply it with an analytically-computed gradient (+2 points). Use the option 'method=BFGS' to make python to use a quasi-Newton BFGS method, play with the number of iterations that are allowed ('options.maxiter') to see the effect; you can also try to provide the algorithm with the Hessian derived analytically. You get +2 points if your approach devised this way will work faster or comparable with quasi-Newton. \n",
    "\n",
    "**Output.** For each experiment, your pdf file should include:\n",
    "*\tA printout of the reconstruction: use e.g. scatter plots with different colors used for beacons and robots positions.\n",
    "*\tAn explanation of what you have tried and what you have observed.\n",
    "Of course, your code should be attached.\n"
   ]
  },
  {
   "cell_type": "code",
   "execution_count": 387,
   "metadata": {
    "collapsed": true
   },
   "outputs": [],
   "source": [
    "import scipy.io as sio\n",
    "\n",
    "mat_contents = sio.loadmat('task3.mat')\n",
    "\n",
    "beacons = mat_contents['beacons']\n",
    "robots = mat_contents['robots']\n",
    "x = mat_contents['x']\n",
    "y = mat_contents['y']"
   ]
  },
  {
   "cell_type": "code",
   "execution_count": 389,
   "metadata": {
    "collapsed": false
   },
   "outputs": [
    {
     "data": {
      "image/png": "[encoded data removed]",
      "text/plain": [
       "<matplotlib.figure.Figure at 0x7f19373578d0>"
      ]
     },
     "metadata": {},
     "output_type": "display_data"
    }
   ],
   "source": [
    "x_res2, bc2 = solve_oriented(beacons, robots, x, y, np.zeros(len(beacons)))"
   ]
  },
  {
   "cell_type": "code",
   "execution_count": null,
   "metadata": {
    "collapsed": true
   },
   "outputs": [],
   "source": []
  }
 ],
 "metadata": {
  "kernelspec": {
   "display_name": "Python 2",
   "language": "python",
   "name": "python2"
  },
  "language_info": {
   "codemirror_mode": {
    "name": "ipython",
    "version": 2
   },
   "file_extension": ".py",
   "mimetype": "text/x-python",
   "name": "python",
   "nbconvert_exporter": "python",
   "pygments_lexer": "ipython2",
   "version": "2.7.10"
  }
 },
 "nbformat": 4,
 "nbformat_minor": 0
}
