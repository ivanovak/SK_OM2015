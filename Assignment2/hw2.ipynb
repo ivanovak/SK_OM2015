{
 "cells": [
  {
   "cell_type": "code",
   "execution_count": 1,
   "metadata": {
    "collapsed": true
   },
   "outputs": [],
   "source": [
    "from cvxpy import *\n",
    "import gurobipy"
   ]
  },
  {
   "cell_type": "markdown",
   "metadata": {},
   "source": [
    "<img src=\"ex14.png\">"
   ]
  },
  {
   "cell_type": "code",
   "execution_count": 2,
   "metadata": {
    "collapsed": false,
    "scrolled": true
   },
   "outputs": [
    {
     "name": "stdout",
     "output_type": "stream",
     "text": [
      "optimal value: 10.9999999686\n",
      "x_1:  -1.99999997883 ; x_2:  5.00000002459\n"
     ]
    }
   ],
   "source": [
    "problem = [] # we split our linear problem into several\n",
    "candidates = [] # minimum value for each split\n",
    "\n",
    "x1 = [Variable(), Variable(), Variable(), Variable()]\n",
    "x2 = [Variable(), Variable(), Variable(), Variable()]\n",
    "\n",
    "# x_1 < -2 & x2 < 0\n",
    "constraints = [ -x1[0] - 2 - x2[0] <= 5,\n",
    "                x1[0] < -2,\n",
    "                x2[0] < 0]\n",
    "\n",
    "obj = Minimize(2 * x1[0] + 3 * (-x2[0] + 10))\n",
    "prob = Problem(obj, constraints)\n",
    "candidates.append(prob.solve(solver=CVXOPT))\n",
    "problem.append(prob)\n",
    "\n",
    "# x_1 < -2 & x2 >= 0\n",
    "constraints = [ -x1[1] - 2 + x2[1] <= 5,\n",
    "                x1[1] < -2,\n",
    "                x2[1] >= 0,\n",
    "                x2[1] < 10]\n",
    "\n",
    "obj = Minimize(2 * x1[1] + 3 * (-x2[1] + 10))\n",
    "prob = Problem(obj, constraints)\n",
    "candidates.append(prob.solve(solver=CVXOPT))\n",
    "problem.append(prob)\n",
    "\n",
    "# x_1 >= -2 & x2 < 0\n",
    "constraints = [ x1[2] + 2 - x2[2] <= 5,\n",
    "                x1[2] >= -2,\n",
    "                x2[2] < 0]\n",
    "\n",
    "obj = Minimize(2 * x1[2] +3 * (-x2[2] + 10))\n",
    "prob = Problem(obj, constraints)\n",
    "candidates.append(prob.solve(solver=CVXOPT))\n",
    "problem.append(prob)\n",
    "\n",
    "# x_1 >= -2 & x2 >= 0\n",
    "constraints = [ x1[3] + 2 + x2[3] <= 5,\n",
    "                x1[3] >= -2,\n",
    "                x2[3] >= 0]\n",
    "\n",
    "obj = Minimize(2 * x1[3] + 3 * (-x2[3] + 10))\n",
    "prob = Problem(obj, constraints)\n",
    "candidates.append(prob.solve(solver=CVXOPT))\n",
    "problem.append(prob)\n",
    "\n",
    "idx = candidates.index(min(candidates))\n",
    "print \"optimal value:\", candidates[idx]\n",
    "print \"x_1: \", x1[idx].value, \"; x_2: \", x2[idx].value"
   ]
  },
  {
   "cell_type": "markdown",
   "metadata": {},
   "source": [
    "Exactly one LP implementation, based on the fact:\n",
    "$$\\min{ \\left|x - c\\right|} \\equiv \\min{ (x_1 + x_2)},$$\n",
    "where:\n",
    "$$x_1 - x_2 = x - c; x_1, x_2 \\geq 0$$"
   ]
  },
  {
   "cell_type": "code",
   "execution_count": 63,
   "metadata": {
    "collapsed": false
   },
   "outputs": [
    {
     "name": "stdout",
     "output_type": "stream",
     "text": [
      "optimal value: 10.9999999637\n"
     ]
    }
   ],
   "source": [
    "x2 = Variable()\n",
    "x1 = Variable()\n",
    "\n",
    "x2_1, x2_2 = [Variable(), Variable()]\n",
    "x2_1z, x2_2z = [Variable(), Variable()]\n",
    "x1_1, x1_2 = [Variable(), Variable()]\n",
    "\n",
    "constraints = [ x2_1 - x2_2 == x2 - 10,\n",
    "                x1_1 - x1_2 == x1 + 2,\n",
    "                x2_1z - x2_2z == x2,\n",
    "                x2_1 >= 0,\n",
    "                x2_2 >= 0,\n",
    "                x1_1 >= 0,\n",
    "                x1_2 >= 0,\n",
    "                x2_1z >= 0,\n",
    "                x2_2z >= 0,\n",
    "                x1_1 + x1_2 + x2_1z + x2_2z <= 5]\n",
    "\n",
    "obj = Minimize(2 * x1 + 3 * (x2_1 + x2_2))\n",
    "prob = Problem(obj, constraints)\n",
    "res = prob.solve(solver=CVXOPT)\n",
    "print \"optimal value:\", res"
   ]
  },
  {
   "cell_type": "markdown",
   "metadata": {},
   "source": [
    "this one also could be solved within the `abs` func:"
   ]
  },
  {
   "cell_type": "code",
   "execution_count": 4,
   "metadata": {
    "collapsed": false
   },
   "outputs": [
    {
     "name": "stdout",
     "output_type": "stream",
     "text": [
      "optimal value: 10.9999999792\n",
      "x_1:  -2.00000010026 ; x_2:  4.99999992744\n"
     ]
    }
   ],
   "source": [
    "import cvxpy\n",
    "\n",
    "x1 = Variable()\n",
    "x2 = Variable()\n",
    "\n",
    "constraints = [ cvxpy.abs(x1 + 2) + cvxpy.abs(x2) <= 5 ]\n",
    "\n",
    "obj = Minimize(2 * x1 + 3*cvxpy.abs(x2 - 10))\n",
    "prob = Problem(obj, constraints)\n",
    "res = prob.solve(solver=CVXOPT)\n",
    "print \"optimal value:\", res\n",
    "print \"x_1: \", x1.value, \"; x_2: \", x2.value"
   ]
  },
  {
   "cell_type": "code",
   "execution_count": null,
   "metadata": {
    "collapsed": true
   },
   "outputs": [],
   "source": []
  },
  {
   "cell_type": "markdown",
   "metadata": {},
   "source": [
    "<img src=\"ex18.png\">"
   ]
  },
  {
   "cell_type": "markdown",
   "metadata": {},
   "source": [
    "We will just try to minimize L1 error:\n",
    "$$Err(p) = ||ap - I^*||_1$$"
   ]
  },
  {
   "cell_type": "code",
   "execution_count": 98,
   "metadata": {
    "collapsed": false
   },
   "outputs": [
    {
     "name": "stdout",
     "output_type": "stream",
     "text": [
      " value:  32.5449493298\n"
     ]
    },
    {
     "data": {
      "text/plain": [
       "<matplotlib.legend.Legend at 0x7f78bfc01350>"
      ]
     },
     "execution_count": 98,
     "metadata": {},
     "output_type": "execute_result"
    },
    {
     "data": {
      "image/png": "[encoded data removed]",
      "text/plain": [
       "<matplotlib.figure.Figure at 0x7f78c0c35750>"
      ]
     },
     "metadata": {},
     "output_type": "display_data"
    }
   ],
   "source": [
    "import matplotlib.pyplot as plt\n",
    "import numpy as np\n",
    "import pandas as pd\n",
    "\n",
    "%matplotlib inline\n",
    "\n",
    "np.random.seed(42)\n",
    "\n",
    "n, m = 20, 50 # segments, lamps\n",
    "a = np.random.rand(n, m) * 10 # matrix of illumination coefficients\n",
    "\n",
    "p = Variable(m) # lamp powers vector\n",
    "\n",
    "Iast = (np.random.rand(n) * 10).reshape((n, 1)) # desired illumination\n",
    "\n",
    "constraints = [ (p[i] >= 0) for i in xrange(m) ]\n",
    "\n",
    "obj = Minimize(cvxpy.norm(a * p - Iast, 1))\n",
    "prob = Problem(obj, constraints)\n",
    "res = prob.solve(solver=CVXOPT)\n",
    "\n",
    "print \" value: \", res\n",
    "values = np.array([np.float64(i) for i in p.value])\n",
    "values = a.dot(values)\n",
    "rng = range(len(values))\n",
    "\n",
    "plt.step(rng, values,'r', label='actual')\n",
    "plt.step(rng, Iast,'b', label='desired')\n",
    "\n",
    "plt.xlabel('segments')\n",
    "plt.ylabel('seg. illumination')\n",
    "\n",
    "plt.legend(bbox_to_anchor=(1.05, 1), loc=2, borderaxespad=0.)"
   ]
  },
  {
   "cell_type": "markdown",
   "metadata": {},
   "source": [
    "The reason we don't get a perfect solution for $m \\geq n$ is that $p_i$ should be positive."
   ]
  },
  {
   "cell_type": "markdown",
   "metadata": {
    "collapsed": true
   },
   "source": [
    "<img src=\"ex115.png\">"
   ]
  },
  {
   "cell_type": "markdown",
   "metadata": {},
   "source": [
    "1. Case 'a':\n",
    "  * $(9-1.2)A + (8-0.9)B$ - Daily profit\n",
    "  * A - First product quantity\n",
    "  * B - Second product quantity\n",
    "  * $A * \\frac{1}{4} + B * \\frac{1}{3} \\leq 90$ - fit into assembly hours\n",
    "  * $A * \\frac{1}{8} + B * \\frac{1}{3} \\leq 80$ - fit into testing hours"
   ]
  },
  {
   "cell_type": "code",
   "execution_count": 129,
   "metadata": {
    "collapsed": false
   },
   "outputs": [
    {
     "name": "stdout",
     "output_type": "stream",
     "text": [
      "Profit:  2807.99999927 A:  359.999999823 ; B:  9.14801625111e-08\n"
     ]
    }
   ],
   "source": [
    "np.random.seed(42)\n",
    "\n",
    "a, b = [Variable(), Variable()]\n",
    "a_prime_cost = Constant(1.2)\n",
    "b_prime_cost = Constant(0.9)\n",
    "a_market_price = Constant(9)\n",
    "b_market_price = Constant(8)\n",
    "a_assem = Constant(1/4.)\n",
    "b_assem = Constant(1/3.)\n",
    "a_test = Constant(1/8.)\n",
    "b_test = Constant(1/3.)\n",
    "assem_max = Constant(90)\n",
    "test_max = Constant(80)\n",
    "\n",
    "constraints = [ a*a_assem + b*b_assem <= assem_max,\n",
    "                a*a_test + b*b_test <= test_max,\n",
    "                a >= 0, b >= 0]\n",
    "\n",
    "obj = Minimize(-((a_market_price - a_prime_cost)*a + \n",
    "               (b_market_price - b_prime_cost)*b))\n",
    "\n",
    "prob = Problem(obj, constraints)\n",
    "res = prob.solve(solver=CVXOPT)\n",
    "\n",
    "print \"Profit: \", -res, \"A: \", a.value, \"; B: \", b.value\n"
   ]
  },
  {
   "cell_type": "markdown",
   "metadata": {},
   "source": [
    "2. Case 'b(i)':\n",
    "  * Let's introduce $O$ - overtime assembly scheduled\n",
    "  * $(9-1.2)A + (8-0.9)B - 7O $ - Daily profit\n",
    "  * also we should fix assembly hours constraint:\n",
    "  * $A * \\frac{1}{4} + B * \\frac{1}{3} \\leq 90 + O$\n",
    "  * $O \\leq 50$"
   ]
  },
  {
   "cell_type": "code",
   "execution_count": 128,
   "metadata": {
    "collapsed": false
   },
   "outputs": [
    {
     "name": "stdout",
     "output_type": "stream",
     "text": [
      "Profit:  4017.9999083 A:  559.99996746 ; B:  2.25003061841e-05\n",
      "O: 49.9999996629\n"
     ]
    }
   ],
   "source": [
    "np.random.seed(42)\n",
    "O = Variable()\n",
    "\n",
    "assem_hour_cost = Constant(7)\n",
    "\n",
    "constraints = [ a*a_assem + b*b_assem <= assem_max + O,\n",
    "                a*a_test + b*b_test <= test_max,\n",
    "                a >= 0, b >= 0, \n",
    "                O >= 0, O <= 50]\n",
    "\n",
    "obj = Minimize(-((a_market_price - a_prime_cost)*a + \n",
    "               (b_market_price - b_prime_cost)*b - O*assem_hour_cost))\n",
    "\n",
    "prob = Problem(obj, constraints)\n",
    "res = prob.solve(solver=CVXOPT)\n",
    "\n",
    "print \"Profit: \", -res, \"A: \", a.value, \"; B: \", b.value\n",
    "print \"O:\", O.value\n"
   ]
  },
  {
   "cell_type": "markdown",
   "metadata": {},
   "source": [
    "3. Case 'b(ii)':\n",
    "  * here we will use the observation that to find $-\\min{(a, b)}$ in LP terms, we should consider the following objective function and constraints: $f = \\min{c}; c \\geq -a, c \\geq -b$\n",
    "  \n",
    "  * $a$ and $b$ here are our solutions for 2 cases:\n",
    "     * when the total price on materials is lower or equal than 300\n",
    "     * when the total price on materials is higher or equal than 300"
   ]
  },
  {
   "cell_type": "code",
   "execution_count": 150,
   "metadata": {
    "collapsed": false
   },
   "outputs": [
    {
     "name": "stdout",
     "output_type": "stream",
     "text": [
      "Best profit:  2185.71428582\n",
      "No disc res:  2185.71428589 A:  108.571428576 ; B:  188.571428591\n",
      "With disc res:  2260.43142265 A:  239.294986897 ; B:  50.7948715485\n"
     ]
    }
   ],
   "source": [
    "np.random.seed(42)\n",
    "\n",
    "discount = Constant(.9)\n",
    "\n",
    "a_d, b_d = [Variable(), Variable()]\n",
    "c = Variable()\n",
    "\n",
    "constraints = [ \n",
    "                # here all the constraints are duplicated for the\n",
    "                # discount case\n",
    "                a*a_assem + b*b_assem <= assem_max,\n",
    "                a_d*a_assem + b_d*b_assem <= assem_max,\n",
    "                a*a_test + b*b_test <= test_max,\n",
    "                a_d*a_test + b_d*b_test <= test_max,\n",
    "                a >= 0, b >= 0,\n",
    "                a_d >= 0, b_d >= 0,\n",
    "     \n",
    "                # daily profit without discount\n",
    "                c >= -((a_market_price - a_prime_cost)*a + \n",
    "                  (b_market_price - b_prime_cost)*b),\n",
    "                b_prime_cost * b + a_prime_cost * a <= 300,\n",
    "    \n",
    "                # daily profit with discount\n",
    "                c >= -((a_market_price - a_prime_cost*discount)*a_d + \n",
    "                  (b_market_price - b_prime_cost*discount)*b_d),\n",
    "                b_prime_cost * b_d + a_prime_cost * a_d > 300\n",
    "              ]\n",
    "\n",
    "obj = Minimize(c)\n",
    "\n",
    "prob = Problem(obj, constraints)\n",
    "res = prob.solve(solver=CVXOPT)\n",
    "\n",
    "res1 = ((a_market_price.value - a_prime_cost.value)*a.value + \n",
    "        (b_market_price.value - b_prime_cost.value)*b.value)\n",
    "res2 = ((a_market_price.value - a_prime_cost.value*discount.value)*a_d.value + \n",
    "        (b_market_price.value - b_prime_cost.value*discount.value)*b_d.value)\n",
    "\n",
    "print \"Best profit: \", -res\n",
    "print \"No disc res: \", res1, \"A: \", a.value, \"; B: \", b.value\n",
    "print \"With disc res: \", res2, \"A: \", a_d.value, \"; B: \", b_d.value"
   ]
  },
  {
   "cell_type": "markdown",
   "metadata": {},
   "source": [
    "The interesting thing here is that in both cases we now have meaningfull amount of B-product to be produced. Whereas in the previous optimizations the strategy was only to buy A-kind products."
   ]
  },
  {
   "cell_type": "markdown",
   "metadata": {},
   "source": [
    "<img src=\"ex312.png\">"
   ]
  },
  {
   "cell_type": "markdown",
   "metadata": {},
   "source": [
    " (a). Here's how the standard form looks like:\n",
    " \n",
    " $$c^T = \\begin{pmatrix} -2 \\\\ -1 \\\\ 0 \\\\ 0 \\end{pmatrix}^T x=\\begin{pmatrix} x_1\\\\ x_2\\\\ x_3\\\\ x_4\\end{pmatrix}$$\n",
    " \n",
    " $x_3$ and $x_4$ here are so-called slack variables.\n",
    " \n",
    " __objective function:__ $c^Tx$\n",
    " $$A = \\begin{pmatrix} 1 & -1 & 1 & 0 \\\\ 1 & 1 & 0 & 1 \\end{pmatrix} b = \\begin{pmatrix} 2 \\\\ 6 \\end{pmatrix}$$\n",
    " __s.t.__: $Ax = b$\n",
    " \n",
    " from the $A$ matrix we can see that $x_3 =  \\begin{pmatrix} 1 \\\\ 0 \\end{pmatrix}$ and $x_4=  \\begin{pmatrix} 0 \\\\ 1 \\end{pmatrix}$ are forming a basis.\n",
    " \n",
    " Now:\n",
    " $$x_3 = 2 - x_1 + x_2\\\\\n",
    "   x_4 = 6 - x_1 - x_2\n",
    " $$\n",
    " is the BFS at $(x_1, x_2) = (0, 0)$\n",
    " "
   ]
  },
  {
   "cell_type": "markdown",
   "metadata": {},
   "source": [
    "(b). Tableau:\n",
    "\n",
    "Initial tableau:\n",
    "\n",
    "$\\begin{pmatrix} x_1 & x_2 & x_3 & x_4 & -f \\\\-2 & -1 & 0 & 0 & 0 \\\\ 1 & -1 & 1 & 0 & 2 \\\\ 1 & 1 & 0 & 1 & 6 \\end{pmatrix}$, basis = {3, 4}"
   ]
  },
  {
   "cell_type": "markdown",
   "metadata": {},
   "source": [
    "now we have two candidates for pivoting: $x_1$ and $x_2$, let's take $x_1$ and swap with $x_3$ because $\\frac{2}{1} < \\frac{6}{1}$. Here's an updated tableau:\n",
    "\n",
    "$\\begin{pmatrix} x_1 & x_2 & x_3 & x_4 & -f \\\\0 & -3 & 2 & 0 & 4 \\\\ 1 & -1 & 1 & 0 & 2 \\\\ 0 & 2 & -1 & 1 & 4 \\end{pmatrix}$, basis = {1, 4}"
   ]
  },
  {
   "cell_type": "markdown",
   "metadata": {},
   "source": [
    "the next candidate to the basis is $x_2$ and we can swap it only with $x_4$:\n",
    "\n",
    "\n",
    "$\\begin{pmatrix} x_1 & x_2 & x_3 & x_4 & -f \\\\0 & 0 & \\frac{1}{2} & \\frac{3}{2} & 10 \\\\ 1 & 0 & -\\frac{1}{2} & -\\frac{1}{2} & 4 \\\\ 0 & 1 & \\frac{1}{2} & -\\frac{1}{2} & 2 \\end{pmatrix}$, basis = {1, 2}"
   ]
  },
  {
   "cell_type": "markdown",
   "metadata": {},
   "source": [
    "and we've done here because all $c_i \\geq 0$ with the optimal feasible solution equal to $-10$"
   ]
  },
  {
   "cell_type": "markdown",
   "metadata": {},
   "source": [
    "(c).\n",
    "\n",
    "Here's the simplex algorithm path projected on $x_1$ and $x_2$:"
   ]
  }
 ],
 "metadata": {
  "kernelspec": {
   "display_name": "Python 2",
   "language": "python",
   "name": "python2"
  },
  "language_info": {
   "codemirror_mode": {
    "name": "ipython",
    "version": 2
   },
   "file_extension": ".py",
   "mimetype": "text/x-python",
   "name": "python",
   "nbconvert_exporter": "python",
   "pygments_lexer": "ipython2",
   "version": "2.7.10"
  }
 },
 "nbformat": 4,
 "nbformat_minor": 0
}
