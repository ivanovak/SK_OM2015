{
 "cells": [
  {
   "cell_type": "code",
   "execution_count": 7,
   "metadata": {
    "collapsed": true
   },
   "outputs": [],
   "source": [
    "from cvxpy import *\n",
    "import gurobipy"
   ]
  },
  {
   "cell_type": "markdown",
   "metadata": {},
   "source": [
    "## Ex. 1.4"
   ]
  },
  {
   "cell_type": "markdown",
   "metadata": {},
   "source": [
    "Minimize:\n",
    "\n",
    "$$ f(x) = 2x_1+3\\left|x_2 - 10\\right|,$$\n",
    "subject to:\n",
    "$$ \\left|x_1 + 2\\right| + \\left|x_2\\right| \\leq 5 $$"
   ]
  },
  {
   "cell_type": "code",
   "execution_count": 30,
   "metadata": {
    "collapsed": false
   },
   "outputs": [
    {
     "name": "stdout",
     "output_type": "stream",
     "text": [
      "optimal value: 10.9999999686\n",
      "x_1:  -1.99999997883 ; x_2:  5.00000002459\n"
     ]
    }
   ],
   "source": [
    "problem = [] # we split our linear problem into several\n",
    "candidates = [] # minimum value for each split\n",
    "\n",
    "x1 = [Variable(), Variable(), Variable(), Variable()]\n",
    "x2 = [Variable(), Variable(), Variable(), Variable()]\n",
    "\n",
    "# x_1 < -2 & x2 < 0\n",
    "constraints = [ -x1[0] - 2 - x2[0] <= 5,\n",
    "                x1[0] < -2,\n",
    "                x2[0] < 0]\n",
    "\n",
    "obj = Minimize(2 * x1[0] + 3 * (-x2[0] + 10))\n",
    "prob = Problem(obj, constraints)\n",
    "candidates.append(prob.solve(solver=CVXOPT))\n",
    "problem.append(prob)\n",
    "\n",
    "# x_1 < -2 & x2 >= 0\n",
    "constraints = [ -x1[1] - 2 + x2[1] <= 5,\n",
    "                x1[1] < -2,\n",
    "                x2[1] >= 0,\n",
    "                x2[1] < 10]\n",
    "\n",
    "obj = Minimize(2 * x1[1] + 3 * (-x2[1] + 10))\n",
    "prob = Problem(obj, constraints)\n",
    "candidates.append(prob.solve(solver=CVXOPT))\n",
    "problem.append(prob)\n",
    "\n",
    "# x_1 >= -2 & x2 < 0\n",
    "constraints = [ x1[2] + 2 - x2[2] <= 5,\n",
    "                x1[2] >= -2,\n",
    "                x2[2] < 0]\n",
    "\n",
    "obj = Minimize(2 * x1[2] +3 * (-x2[2] + 10))\n",
    "prob = Problem(obj, constraints)\n",
    "candidates.append(prob.solve(solver=CVXOPT))\n",
    "problem.append(prob)\n",
    "\n",
    "# x_1 >= -2 & x2 >= 0\n",
    "constraints = [ x1[3] + 2 + x2[3] <= 5,\n",
    "                x1[3] >= -2,\n",
    "                x2[3] >= 0]\n",
    "\n",
    "obj = Minimize(2 * x1[3] + 3 * (-x2[3] + 10))\n",
    "prob = Problem(obj, constraints)\n",
    "candidates.append(prob.solve(solver=CVXOPT))\n",
    "problem.append(prob)\n",
    "\n",
    "idx = candidates.index(min(candidates))\n",
    "print \"optimal value:\", candidates[idx]\n",
    "print \"x_1: \", x1[idx].value, \"; x_2: \", x2[idx].value"
   ]
  },
  {
   "cell_type": "markdown",
   "metadata": {},
   "source": [
    "this one also could be solved within the `abs` func:"
   ]
  },
  {
   "cell_type": "code",
   "execution_count": 31,
   "metadata": {
    "collapsed": false
   },
   "outputs": [
    {
     "name": "stdout",
     "output_type": "stream",
     "text": [
      "optimal value: 10.9999999792\n",
      "x_1:  -2.00000010026 ; x_2:  4.99999992744\n"
     ]
    }
   ],
   "source": [
    "x1 = Variable()\n",
    "x2 = Variable()\n",
    "\n",
    "constraints = [ cvxpy.abs(x1 + 2) + cvxpy.abs(x2) <= 5 ]\n",
    "\n",
    "obj = Minimize(2 * x1 + 3*cvxpy.abs(x2 - 10))\n",
    "prob = Problem(obj, constraints)\n",
    "res = prob.solve(solver=CVXOPT)\n",
    "print \"optimal value:\", res\n",
    "print \"x_1: \", x1.value, \"; x_2: \", x2.value"
   ]
  },
  {
   "cell_type": "code",
   "execution_count": null,
   "metadata": {
    "collapsed": true
   },
   "outputs": [],
   "source": []
  }
 ],
 "metadata": {
  "kernelspec": {
   "display_name": "Python 2",
   "language": "python",
   "name": "python2"
  },
  "language_info": {
   "codemirror_mode": {
    "name": "ipython",
    "version": 2
   },
   "file_extension": ".py",
   "mimetype": "text/x-python",
   "name": "python",
   "nbconvert_exporter": "python",
   "pygments_lexer": "ipython2",
   "version": "2.7.10"
  }
 },
 "nbformat": 4,
 "nbformat_minor": 0
}
