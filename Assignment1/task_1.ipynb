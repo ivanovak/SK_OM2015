{
 "cells": [
  {
   "cell_type": "markdown",
   "metadata": {},
   "source": [
    "**Problem 1:** *Capacitated facility location.* \n",
    "\n",
    "You need to solve a *capacitated facility location* problem. There are a number of clients that can be served by a number of potential facilities. As in the case of a common (uncapacitated) facility location problem, you need to decide which facilities to open (paying the opening cost for each) and which clients to serve at each facility (paying the assignment cost). Each client must be assigned to one opened facility. In addition, you have a cap on how many clients each facility can serve. As usual, you want to minimize the costs.\n",
    "\n",
    "Implement the following algorithms and investigate them. Use the attached script to generate the data, and to visualize the results. You are supposed to play with different configurations and sizes of the problem. Please make your report detailed (otherwise lower amount of points then indicated may be assigned).\n",
    "\n",
    "* (2 points). Implement a **greedy algorithm** for the problem."
   ]
  },
  {
   "cell_type": "code",
   "execution_count": 101,
   "metadata": {
    "collapsed": true
   },
   "outputs": [],
   "source": [
    "from gurobipy import *"
   ]
  },
  {
   "cell_type": "code",
   "execution_count": 107,
   "metadata": {
    "collapsed": false
   },
   "outputs": [],
   "source": [
    "# initialization\n",
    "\n",
    "import numpy as np\n",
    "import scipy as sp\n",
    "from numpy import random\n",
    "from numpy import matlib\n",
    "import matplotlib.pyplot as plt\n",
    "\n",
    "%matplotlib inline\n",
    "\n",
    "np.random.seed(1)\n",
    "\n",
    "C = 20; # number of clients\n",
    "clients = np.random.rand(2,C); #client positions\n",
    "F = 15; #number of facilities\n",
    "facilities = np.random.rand(2,F);\n",
    "\n",
    "#capacities = np.ones((F,))*4; #maximum number of clients per facility\n",
    "capacities = np.array([2, 3, 4, 2, 5, 3, 2, 1, 2, 3, 4, 3, 2, 1, 2]);\n",
    "\n",
    "dx = np.matlib.repmat(clients[0,:],F,1) - np.matlib.repmat(facilities[0,:],C,1).transpose();\n",
    "dy = np.matlib.repmat(clients[1,:],F,1) - np.matlib.repmat(facilities[1,:],C,1).transpose();\n",
    "\n",
    "assignment_costs = 3*(dx*dx + dy*dy); #the assignment cost is the distance squared\n",
    "\n",
    "#opening_costs = np.ones((F,));\n",
    "opening_costs = np.array([1, 2, 1, 2, 1, 1.2, 1.3, 2, 1, 1, 1.4, 2, 1, 1, 1]);\n",
    "\n",
    "# plot the solution\n",
    "def plot_solution(facilities_opened, clients_assignment):\n",
    "    plt.scatter(clients[0,:], clients[1,:], s=50.0, c=clients_assignment)\n",
    "    plt.scatter(facilities[0,:], facilities[1,:], s=200.0, c=range(F), linewidth = [5*el for el in facilities_opened])\n",
    "    plt.show()"
   ]
  },
  {
   "cell_type": "code",
   "execution_count": 115,
   "metadata": {
    "collapsed": false
   },
   "outputs": [
    {
     "name": "stdout",
     "output_type": "stream",
     "text": [
      "Greedy cost:  16.4373303001\n"
     ]
    },
    {
     "data": {
      "image/png": "[encoded data removed]",
      "text/plain": [
       "<matplotlib.figure.Figure at 0x7f12f0c137d0>"
      ]
     },
     "metadata": {},
     "output_type": "display_data"
    }
   ],
   "source": [
    "# greedy solution\n",
    "\"\"\"\n",
    "For each person we will find the closest facility.\n",
    "We will try to open the closest non-opened facility with >0 capacity if \n",
    "it will be more efficient than just attach the person to closest opened non-full facility.\n",
    "\"\"\"\n",
    "\n",
    "total_cost = 0\n",
    "\n",
    "places_left = np.copy(capacities)\n",
    "taken = np.zeros(F)\n",
    "clients_assignment = []\n",
    "\n",
    "for i in xrange(C):\n",
    "    no_min_cost = op_min_cost = dist = 1e10\n",
    "    no_cnd = op_cnd = -1\n",
    "    no_cnd_f = op_cnd_f = False\n",
    "    \n",
    "    # not opened candidate\n",
    "    for j in xrange(F):\n",
    "        dist = assignment_costs[j, i]\n",
    "        \n",
    "        if (taken[j] == 0) and (capacities[j] > 0) and ((dist + opening_costs[j]) < no_min_cost):\n",
    "            no_min_cost = dist + opening_costs[j]\n",
    "            no_cnd = j\n",
    "            no_cnd_f = True\n",
    "    \n",
    "    #already opend candidate\n",
    "    for j in xrange(F):\n",
    "        dist = assignment_costs[j, i]\n",
    "        \n",
    "        if (taken[j] == 1 and places_left[j] > 0) and (dist < op_min_cost):\n",
    "            op_min_cost = dist\n",
    "            op_cnd = j\n",
    "            op_cnd_f = True\n",
    "    \n",
    "    assert(op_cnd_f or no_cnd_f)\n",
    "    \n",
    "    if op_cnd_f and op_min_cost < no_min_cost:\n",
    "        places_left[op_cnd] -= 1\n",
    "        total_cost += op_min_cost\n",
    "        clients_assignment.append(op_cnd)\n",
    "    else:\n",
    "        places_left[no_cnd] -= 1\n",
    "        taken[no_cnd] = 1\n",
    "        total_cost += no_min_cost\n",
    "        clients_assignment.append(no_cnd)\n",
    "        \n",
    "print 'Greedy cost: ', total_cost\n",
    "        \n",
    "plot_solution(taken, clients_assignment)"
   ]
  },
  {
   "cell_type": "markdown",
   "metadata": {},
   "source": [
    "* (3 points). Implement **some local optimization algorithm**. Try to design powerful moves that are at the same time easy to search through. **Important:** your move should connect the whole domain, i.e. for any pair of feasible solutions, there should exist a sequence of moves from the family you design that transform one solution to the other."
   ]
  },
  {
   "cell_type": "markdown",
   "metadata": {},
   "source": [
    "Our local optimization will start at the state $X$ where every client is randomly assigned to a facility. The neighborhood of $X$ will be all such states which could be obtained with a single person transition or 2 persons swap. Thus, there will be $C \\times F + C \\times C$ points in the neighborhood."
   ]
  },
  {
   "cell_type": "code",
   "execution_count": 135,
   "metadata": {
    "collapsed": false
   },
   "outputs": [
    {
     "name": "stdout",
     "output_type": "stream",
     "text": [
      "Move:  27.4400486237\n",
      "Swap:  25.4029961473\n",
      "Move:  24.0911119104\n",
      "Move:  22.8014577733\n",
      "Move:  21.5510950621\n",
      "Move:  20.2957370819\n",
      "Swap:  19.0695922721\n",
      "Swap:  17.9023648711\n",
      "Move:  16.7887341137\n",
      "Move:  15.7106818892\n",
      "Move:  14.6604575894\n",
      "Move:  13.5142663418\n",
      "Move:  12.733173868\n",
      "Swap:  12.3756814078\n",
      "Swap:  12.0703229117\n",
      "Swap:  11.8428197581\n",
      "Swap:  11.6256004546\n",
      "Swap:  11.4533017034\n"
     ]
    },
    {
     "data": {
      "image/png": "[encoded data removed]",
      "text/plain": [
       "<matplotlib.figure.Figure at 0x7f132c72d790>"
      ]
     },
     "metadata": {},
     "output_type": "display_data"
    }
   ],
   "source": [
    "np.random.seed(1)\n",
    "\n",
    "# initial state generation\n",
    "def get_init_x():\n",
    "    places_left = np.copy(capacities)\n",
    "    x = {}\n",
    "    i = 0\n",
    "\n",
    "    while i < C:\n",
    "        to = np.random.randint(0, F)\n",
    "\n",
    "        if (places_left[to] == 0):\n",
    "            continue\n",
    "\n",
    "        places_left[to] -= 1\n",
    "\n",
    "        x[i] = to\n",
    "        i += 1\n",
    "        \n",
    "    return (x, places_left)\n",
    "\n",
    "def unique(seq):\n",
    "    seen = set()\n",
    "    seen_add = seen.add\n",
    "    return [ x for x in seq if not (x in seen or seen_add(x))]\n",
    "\n",
    "# state cost function\n",
    "def cost(x):\n",
    "    res = 0.\n",
    "    \n",
    "    for f in unique(x.values()):\n",
    "        res += opening_costs[f]\n",
    "\n",
    "    for i in xrange(C):\n",
    "        res += assignment_costs[x[i], i] \n",
    "    \n",
    "    return res\n",
    "        \n",
    "def get_best_in_neighborhood(x, places_left):\n",
    "    best_cost = cost(x)\n",
    "    orig_x = x.copy()\n",
    "    x_next = {}\n",
    "    \n",
    "    # first try to swap 2 persons\n",
    "    for i in xrange(C):\n",
    "        for j in xrange(i + 1, C):\n",
    "            t = x[i]\n",
    "            x[i] = x[j]\n",
    "            x[j] = t\n",
    "            cx = cost(x)\n",
    "\n",
    "            if (cx < best_cost):\n",
    "                best_cost = cx\n",
    "                x_next = x.copy()\n",
    "            \n",
    "            t = x[i]\n",
    "            x[i] = x[j]\n",
    "            x[j] = t\n",
    "    \n",
    "    # now just one person relocation\n",
    "    from_fc = to_fc = -1\n",
    "    \n",
    "    for i in xrange(C):\n",
    "        for j in xrange(F):\n",
    "            if places_left[j] > 0:\n",
    "                x[i] = j\n",
    "                cx = cost(x)\n",
    "                \n",
    "                if (cx < best_cost):\n",
    "                    best_cost = cx\n",
    "                    x_next = x.copy()\n",
    "                    from_fc = orig_x[i]\n",
    "                    to_fc = j\n",
    "                \n",
    "                x[i] = orig_x[i]\n",
    "    \n",
    "    return (x_next, from_fc, to_fc)\n",
    "\n",
    "# util functions\n",
    "def plot_x(x):\n",
    "    taken = np.zeros(F)\n",
    "    \n",
    "    for f in unique(x.values()):\n",
    "        taken[f] = 1\n",
    "\n",
    "    plot_solution(taken, x.values())\n",
    "\n",
    "x, places_left = get_init_x()\n",
    "last_x = x\n",
    "\n",
    "while True:    \n",
    "    x, f, t = get_best_in_neighborhood(x, places_left)\n",
    "    \n",
    "    if not bool(x):\n",
    "        break\n",
    "    \n",
    "    last_x = x\n",
    "    \n",
    "    if (f >= 0):\n",
    "        print \"Move: \", cost(x)\n",
    "        places_left[f] += 1\n",
    "        places_left[t] -= 1\n",
    "    else:\n",
    "        print \"Swap: \", cost(x)\n",
    "\n",
    "plot_x(last_x)"
   ]
  },
  {
   "cell_type": "markdown",
   "metadata": {},
   "source": [
    "* (3 points). Implement the **simulated annealing algorithm** based on the best of your local optimization algorithms. Play with the schedule and see how it affects the results. Compare with the local optimization algorithm that you base upon. Note, that if implemented correctly, simulated annealing should improve over the local optimization algorithm."
   ]
  },
  {
   "cell_type": "code",
   "execution_count": 167,
   "metadata": {
    "collapsed": false,
    "scrolled": true
   },
   "outputs": [
    {
     "name": "stdout",
     "output_type": "stream",
     "text": [
      "10.9944274568\n"
     ]
    },
    {
     "data": {
      "image/png": "[encoded data removed]",
      "text/plain": [
       "<matplotlib.figure.Figure at 0x7f12f050fc10>"
      ]
     },
     "metadata": {},
     "output_type": "display_data"
    }
   ],
   "source": [
    "# simulated annealing algorithm implementation\n",
    "\n",
    "np.random.seed(1)\n",
    "\n",
    "def get_neighborhood(x, places_left):\n",
    "    orig_x = x.copy()\n",
    "    \n",
    "    # list of tripples (state, transfered from, transfered to)\n",
    "    # we need transfered info to update our capacities data\n",
    "    res = [] \n",
    "\n",
    "    # first add all swaps\n",
    "    for i in xrange(C):\n",
    "        for j in xrange(i + 1, C):\n",
    "            t = x[i]\n",
    "            x[i] = x[j]\n",
    "            x[j] = t\n",
    "\n",
    "            res.append((x.copy(), -1, -1))\n",
    "            \n",
    "            t = x[i]\n",
    "            x[i] = x[j]\n",
    "            x[j] = t\n",
    "    \n",
    "    # now add all single person transitions\n",
    "    for i in xrange(C):\n",
    "        for j in xrange(F):\n",
    "            if places_left[j] > 0 and not (x[i] == j):\n",
    "                x[i] = j\n",
    "                res.append((x.copy(), orig_x[i], j))\n",
    "                x[i] = orig_x[i]\n",
    "    \n",
    "    return res\n",
    "\n",
    "x, places_left = get_init_x()\n",
    "bestx = x; bestf = 1e10; T = 10000.; mp = 0.999\n",
    "MAX_ITER = 50000\n",
    "niter = 0\n",
    "\n",
    "while niter < MAX_ITER:\n",
    "    nh = get_neighborhood(x, places_left)\n",
    "    y = nh[np.random.randint(0, len(nh))]\n",
    "\n",
    "    dE = cost(y[0]) - cost(x)\n",
    "    \n",
    "    if np.exp(-dE / T) > np.random.rand():\n",
    "        if y[1] >= 0:\n",
    "            places_left[y[1]] += 1\n",
    "            places_left[y[2]] -= 1\n",
    "    \n",
    "        x = y[0]\n",
    "        \n",
    "        if cost(x) < bestf:\n",
    "            bestx = x\n",
    "            bestf = cost(x)\n",
    "    \n",
    "    T *= mp\n",
    "    niter += 1\n",
    "\n",
    "print bestf\n",
    "plot_x(bestx)"
   ]
  },
  {
   "cell_type": "markdown",
   "metadata": {},
   "source": [
    "With much time and iterations simulated annealing gives just a slightly better result. But as we can see its very close to optimal."
   ]
  },
  {
   "cell_type": "markdown",
   "metadata": {},
   "source": [
    "Below is the solution that uses a mixed-integer solver (we will come to that in week 3). You can use it as a reference for small instances (for which it will give you a global optimum), and also reuse the visualization code. "
   ]
  },
  {
   "cell_type": "code",
   "execution_count": 168,
   "metadata": {
    "collapsed": false
   },
   "outputs": [
    {
     "name": "stdout",
     "output_type": "stream",
     "text": [
      "Optimize a model with 50 rows, 315 columns and 645 nonzeros\n",
      "Coefficient statistics:\n",
      "  Matrix range    [1e+00, 5e+00]\n",
      "  Objective range [2e-04, 5e+00]\n",
      "  Bounds range    [1e+00, 1e+00]\n",
      "  RHS range       [1e+00, 1e+00]\n",
      "Found heuristic solution: objective 40.5265\n",
      "Presolve removed 2 rows and 0 columns\n",
      "Presolve time: 0.00s\n",
      "Presolved: 48 rows, 315 columns, 641 nonzeros\n",
      "Variable types: 0 continuous, 315 integer (315 binary)\n",
      "\n",
      "Root relaxation: objective 1.004395e+01, 67 iterations, 0.00 seconds\n",
      "\n",
      "    Nodes    |    Current Node    |     Objective Bounds      |     Work\n",
      " Expl Unexpl |  Obj  Depth IntInf | Incumbent    BestBd   Gap | It/Node Time\n",
      "\n",
      "     0     0   10.04395    0    9   40.52647   10.04395  75.2%     -    0s\n",
      "H    0     0                      14.0246831   10.04395  28.4%     -    0s\n",
      "H    0     0                      11.2402446   10.04395  10.6%     -    0s\n",
      "     0     0   10.35558    0   11   11.24024   10.35558  7.87%     -    0s\n",
      "     0     0   10.35558    0    9   11.24024   10.35558  7.87%     -    0s\n",
      "     0     0   10.35558    0   11   11.24024   10.35558  7.87%     -    0s\n",
      "     0     0   10.35674    0   15   11.24024   10.35674  7.86%     -    0s\n",
      "     0     0   10.36947    0   22   11.24024   10.36947  7.75%     -    0s\n",
      "     0     0   10.46026    0   28   11.24024   10.46026  6.94%     -    0s\n",
      "     0     0   10.46246    0    5   11.24024   10.46246  6.92%     -    0s\n",
      "H    0     0                      10.9521306   10.46246  4.47%     -    0s\n",
      "H    0     0                      10.9499691   10.46246  4.45%     -    0s\n",
      "     0     0   10.47735    0   19   10.94997   10.47735  4.32%     -    0s\n",
      "     0     0   10.48018    0    5   10.94997   10.48018  4.29%     -    0s\n",
      "     0     0   10.48018    0    9   10.94997   10.48018  4.29%     -    0s\n",
      "     0     0   10.48018    0   11   10.94997   10.48018  4.29%     -    0s\n",
      "H    0     0                      10.8909210   10.48018  3.77%     -    0s\n",
      "     0     0   10.48018    0   19   10.89092   10.48018  3.77%     -    0s\n",
      "     0     0   10.48018    0   14   10.89092   10.48018  3.77%     -    0s\n",
      "H    0     0                      10.8809655   10.48018  3.68%     -    0s\n",
      "     0     0   10.48018    0    5   10.88097   10.48018  3.68%     -    0s\n",
      "     0     0   10.48018    0   19   10.88097   10.48018  3.68%     -    0s\n",
      "     0     0   10.48018    0    5   10.88097   10.48018  3.68%     -    0s\n",
      "     0     0   10.48807    0   29   10.88097   10.48807  3.61%     -    0s\n",
      "H    0     0                      10.7647704   10.48807  2.57%     -    0s\n",
      "     0     0   10.48830    0   32   10.76477   10.48830  2.57%     -    0s\n",
      "H    0     0                      10.6748848   10.48830  1.75%     -    0s\n",
      "     0     0   10.48830    0    7   10.67488   10.48830  1.75%     -    0s\n",
      "     0     0   10.48830    0    6   10.67488   10.48830  1.75%     -    0s\n",
      "     0     0   10.48830    0    4   10.67488   10.48830  1.75%     -    0s\n",
      "     0     0   10.48830    0   17   10.67488   10.48830  1.75%     -    0s\n",
      "     0     0   10.48830    0   24   10.67488   10.48830  1.75%     -    0s\n",
      "     0     0   10.48830    0    4   10.67488   10.48830  1.75%     -    0s\n",
      "     0     0   10.48830    0   25   10.67488   10.48830  1.75%     -    0s\n",
      "     0     0   10.48830    0   27   10.67488   10.48830  1.75%     -    0s\n",
      "     0     0   10.48835    0   20   10.67488   10.48835  1.75%     -    0s\n",
      "     0     2   10.48835    0   20   10.67488   10.48835  1.75%     -    0s\n",
      "\n",
      "Cutting planes:\n",
      "  Gomory: 6\n",
      "  Cover: 13\n",
      "  Clique: 2\n",
      "  MIR: 1\n",
      "  Zero half: 3\n",
      "\n",
      "Explored 21 nodes (375 simplex iterations) in 0.10 seconds\n",
      "Thread count was 4 (of 4 available processors)\n",
      "\n",
      "Optimal solution found (tolerance 1.00e-04)\n",
      "Best objective 1.067488476551e+01, best bound 1.067488476551e+01, gap 0.0%\n"
     ]
    },
    {
     "data": {
      "image/png": "[encoded data removed]",
      "text/plain": [
       "<matplotlib.figure.Figure at 0x7f12f082e310>"
      ]
     },
     "metadata": {},
     "output_type": "display_data"
    }
   ],
   "source": [
    "# create the model\n",
    "m = Model(\"facility\")\n",
    "\n",
    "y = []\n",
    "for i_f in range(F):\n",
    "    y.append(m.addVar(vtype=GRB.BINARY))\n",
    "\n",
    "x = []    \n",
    "for i_f in range(F):\n",
    "    x.append([])\n",
    "    for i_c in range(C):\n",
    "        x[i_f].append(m.addVar(vtype=GRB.BINARY))\n",
    "\n",
    "# the objective is to minimize the total fixed and variable costs\n",
    "m.modelSense = GRB.MINIMIZE\n",
    "\n",
    "# update model to integrate new variables\n",
    "m.update()\n",
    "\n",
    "# set optimization objective - minimize sum of fixed costs\n",
    "obj_summands = []\n",
    "for i_f in range(F):\n",
    "    obj_summands.append(opening_costs[i_f]*y[i_f])\n",
    "    \n",
    "for i_f in range(F):\n",
    "    for i_c in range(C):\n",
    "        obj_summands.append(assignment_costs[i_f][i_c]*x[i_f][i_c])\n",
    "\n",
    "m.setObjective(quicksum(obj_summands))  \n",
    "\n",
    "# set constraints\n",
    "for i_c in range(C):\n",
    "    client_constr_summands = [x[i_f][i_c] for i_f in range(F)]\n",
    "    m.addConstr(sum(client_constr_summands), GRB.EQUAL, 1.0)\n",
    "        \n",
    "for i_f in range(F):        \n",
    "    facility_constr_summands = [x[i_f][i_c] for i_c in range(C)]\n",
    "    m.addConstr(sum(facility_constr_summands), GRB.LESS_EQUAL, capacities[i_f]*y[i_f])       \n",
    "\n",
    "for i_f in range(F):        \n",
    "    facility_constr_summands = [x[i_f][i_c] for i_c in range(C)]\n",
    "    m.addConstr(max(facility_constr_summands), GRB.LESS_EQUAL, y[i_f])     \n",
    "\n",
    "# optimize\n",
    "  \n",
    "m.optimize()\n",
    "\n",
    "# plot the solution\n",
    "facilities_opened = [y[i_f].X for i_f in range(F)]    \n",
    "clients_assignment = [i_f for i_f in range(F) for i_c in range(C) if x[i_f][i_c].X != 0]\n",
    "\n",
    "plt.scatter(clients[0,:], clients[1,:], s=50.0, c=clients_assignment)\n",
    "plt.scatter(facilities[0,:], facilities[1,:], s=200.0, c=range(F), linewidth = [5*el for el in facilities_opened])\n",
    "plt.show()\n"
   ]
  },
  {
   "cell_type": "markdown",
   "metadata": {
    "collapsed": true
   },
   "source": [
    "** Problem 2 **: *Optimal vehicle speed scheduling (6 points) *-- (based on an additional exercise A3.20 to Boyd and Vandenberghe). \n",
    "\n",
    "A vehicle (say, an airplane) travels along a fixed path of *n* segments, between *n + 1* waypoints labeled *0, . . . , n*. Segment *i* starts at waypoint *i − 1* and terminates at waypoint *i*. The vehicle starts at time *t = 0* at waypoint *0*. It travels over each segment at a constant (nonnegative) speed; *si* is the speed on segment *i*. We have lower and upper limits on the speeds: *smin ≤ s ≤ smax*. The vehicle does not stop at the waypoints; it simply proceeds to the next segment. The travel distance of segment *i* is *di* (which is positive), so the travel time over segment *i* is *di/si*. We let *τi*, *i = 1, . . . , n,* denote the time at which the vehicle arrives at waypoint *i*. The vehicle is required to arrive at waypoint *i*, *for i = 1, . . . , n*, between times *τmin,i* and *τmax,i* , which are given. The vehicle consumes fuel over segment *i* at a rate that depends on its speed *Φ(s_i )=a s_i^2+b s_i+c kg/s*.\n",
    "\n",
    "You are given the data *d* (segment travel distances), *smin* and *smax* (speed bounds), *τmin* and *τmax* (waypoint arrival time bounds), and the the parameters *a*, *b*, and *c* (all parameters are in *veh_speed_sched_data.m*). Use the dynamic programming approach to find the schedule that allows spending the minimal amount of fuel. Use matplotlib command *step* to plot speed vs time for the optimal schedule. You will need to discretize some continuous variables, make sure you do it densely enough. **NB**: later in the course we will get back to this problem and attack it with a different method.\n"
   ]
  },
  {
   "cell_type": "code",
   "execution_count": 6,
   "metadata": {
    "collapsed": false
   },
   "outputs": [],
   "source": [
    "import scipy.io as sio\n",
    "\n",
    "mat_contents = sio.loadmat('veh_sched_data.mat')\n",
    "\n",
    "a = mat_contents['a']\n",
    "b = mat_contents['b']\n",
    "c = mat_contents['c']\n",
    "d = mat_contents['d']\n",
    "n = mat_contents['n']\n",
    "smin = mat_contents['smin']\n",
    "smax = mat_contents['smax']\n",
    "tau_min = mat_contents['tau_min']\n",
    "tau_max = mat_contents['tau_max']\n"
   ]
  },
  {
   "cell_type": "code",
   "execution_count": null,
   "metadata": {
    "collapsed": true
   },
   "outputs": [],
   "source": []
  }
 ],
 "metadata": {
  "kernelspec": {
   "display_name": "Python 2",
   "language": "python",
   "name": "python2"
  },
  "language_info": {
   "codemirror_mode": {
    "name": "ipython",
    "version": 2
   },
   "file_extension": ".py",
   "mimetype": "text/x-python",
   "name": "python",
   "nbconvert_exporter": "python",
   "pygments_lexer": "ipython2",
   "version": "2.7.10"
  }
 },
 "nbformat": 4,
 "nbformat_minor": 0
}
