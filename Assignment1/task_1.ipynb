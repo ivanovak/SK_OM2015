{
 "cells": [
  {
   "cell_type": "markdown",
   "metadata": {},
   "source": [
    "**Problem 1:** *Capacitated facility location.* \n",
    "\n",
    "You need to solve a *capacitated facility location* problem. There are a number of clients that can be served by a number of potential facilities. As in the case of a common (uncapacitated) facility location problem, you need to decide which facilities to open (paying the opening cost for each) and which clients to serve at each facility (paying the assignment cost). Each client must be assigned to one opened facility. In addition, you have a cap on how many clients each facility can serve. As usual, you want to minimize the costs.\n",
    "\n",
    "Implement the following algorithms and investigate them. Use the attached script to generate the data, and to visualize the results. You are supposed to play with different configurations and sizes of the problem. Please make your report detailed (otherwise lower amount of points then indicated may be assigned).\n",
    "\n",
    "* (2 points). Implement a **greedy algorithm** for the problem."
   ]
  },
  {
   "cell_type": "code",
   "execution_count": 65,
   "metadata": {
    "collapsed": true
   },
   "outputs": [],
   "source": [
    "from gurobipy import *"
   ]
  },
  {
   "cell_type": "code",
   "execution_count": 66,
   "metadata": {
    "collapsed": false
   },
   "outputs": [],
   "source": [
    "# initialization\n",
    "\n",
    "import numpy as np\n",
    "import scipy as sp\n",
    "from numpy import random\n",
    "from numpy import matlib\n",
    "import matplotlib.pyplot as plt\n",
    "\n",
    "%matplotlib inline\n",
    "\n",
    "np.random.seed(1)\n",
    "\n",
    "C = 20; # number of clients\n",
    "clients = np.random.rand(2,C); #client positions\n",
    "F = 15; #number of facilities\n",
    "facilities = np.random.rand(2,F);\n",
    "\n",
    "capacities = np.ones((F,))*4; #maximum number of clients per facility\n",
    "\n",
    "dx = np.matlib.repmat(clients[0,:],F,1) - np.matlib.repmat(facilities[0,:],C,1).transpose();\n",
    "dy = np.matlib.repmat(clients[1,:],F,1) - np.matlib.repmat(facilities[1,:],C,1).transpose();\n",
    "\n",
    "assignment_costs = 3*(dx*dx + dy*dy); #the assignment cost is the distance squared\n",
    "\n",
    "opening_costs = np.ones((F,));\n",
    "\n",
    "# plot the solution\n",
    "def plot_solution(facilities_opened, clients_assignment):\n",
    "    plt.scatter(clients[0,:], clients[1,:], s=50.0, c=clients_assignment)\n",
    "    plt.scatter(facilities[0,:], facilities[1,:], s=200.0, c=range(F), linewidth = [5*el for el in facilities_opened])\n",
    "    plt.show()"
   ]
  },
  {
   "cell_type": "code",
   "execution_count": 77,
   "metadata": {
    "collapsed": false
   },
   "outputs": [
    {
     "name": "stdout",
     "output_type": "stream",
     "text": [
      "Greedy cost:  9.73979936113\n"
     ]
    },
    {
     "data": {
      "image/png": "[encoded data removed]",
      "text/plain": [
       "<matplotlib.figure.Figure at 0x7f12f08f16d0>"
      ]
     },
     "metadata": {},
     "output_type": "display_data"
    }
   ],
   "source": [
    "# greedy solution\n",
    "\"\"\"\n",
    "For each person we will find the closest facility.\n",
    "We will try to open the closest non-opened facility with >0 capacity if \n",
    "it will be more efficient than just attach the person to closest opened non-full facility.\n",
    "\"\"\"\n",
    "\n",
    "total_cost = 0\n",
    "\n",
    "capacities_left = np.copy(capacities)\n",
    "taken = np.zeros(F)\n",
    "clients_assignment = []\n",
    "\n",
    "for i in xrange(C):\n",
    "    no_min_cost = op_min_cost = dist = 1e10\n",
    "    no_cnd = op_cnd = -1\n",
    "    no_cnd_f = op_cnd_f = False\n",
    "    \n",
    "    # not opened candidate\n",
    "    for j in xrange(F):\n",
    "        dist = assignment_costs[j, i]\n",
    "        \n",
    "        if (taken[j] == 0) and (capacities[j] > 0) and ((dist + opening_costs[j]) < no_min_cost):\n",
    "            no_min_cost = dist + opening_costs[j]\n",
    "            no_cnd = j\n",
    "            no_cnd_f = True\n",
    "    \n",
    "    #already opend candidate\n",
    "    for j in xrange(F):\n",
    "        dist = assignment_costs[j, i]\n",
    "        \n",
    "        if (taken[j] == 1 and capacities_left[j] > 0) and (dist < op_min_cost):\n",
    "            op_min_cost = dist\n",
    "            op_cnd = j\n",
    "            op_cnd_f = True\n",
    "    \n",
    "    assert(op_cnd_f or no_cnd_f)\n",
    "    \n",
    "    if op_cnd_f and op_min_cost < no_min_cost:\n",
    "        capacities_left[op_cnd] -= 1\n",
    "        total_cost += op_min_cost\n",
    "        clients_assignment.append(op_cnd)\n",
    "    else:\n",
    "        capacities_left[no_cnd] -= 1\n",
    "        taken[no_cnd] = 1\n",
    "        total_cost += no_min_cost\n",
    "        clients_assignment.append(no_cnd)\n",
    "        \n",
    "print 'Greedy cost: ', total_cost\n",
    "        \n",
    "plot_solution(taken, clients_assignment)"
   ]
  },
  {
   "cell_type": "markdown",
   "metadata": {},
   "source": [
    "* (3 points). Implement **some local optimization algorithm**. Try to design powerful moves that are at the same time easy to search through. **Important:** your move should connect the whole domain, i.e. for any pair of feasible solutions, there should exist a sequence of moves from the family you design that transform one solution to the other."
   ]
  },
  {
   "cell_type": "markdown",
   "metadata": {},
   "source": [
    "Our local optimization will start at the state $X$ where every client is randomly assigned to a facility. The neighborhood of $X$ will be all such states which could be obtained with a single person transition or 2 persons swap. Thus, there will be $C \\times F + C \\times C$ points in the neighborhood."
   ]
  },
  {
   "cell_type": "code",
   "execution_count": 81,
   "metadata": {
    "collapsed": false
   },
   "outputs": [
    {
     "name": "stdout",
     "output_type": "stream",
     "text": [
      "Move:  11.9777840106\n",
      "Move:  11.6423373219\n",
      "Move:  10.6213300727\n",
      "Move:  9.93181701398\n",
      "Swap:  9.7978202593\n",
      "Move:  9.10830720056\n"
     ]
    }
   ],
   "source": [
    "total_cost = 0\n",
    "\n",
    "np.random.seed(1)\n",
    "\n",
    "# initial state generation\n",
    "def get_init_x():\n",
    "    capacities_left = np.copy(capacities)\n",
    "    x = {}\n",
    "    i = 0\n",
    "\n",
    "    while not (i == C):\n",
    "        to = np.random.randint(0, F)\n",
    "\n",
    "        if (capacities_left[to] == 0):\n",
    "            continue\n",
    "\n",
    "        capacities_left[to] -= 1\n",
    "\n",
    "        x[i] = to\n",
    "        i += 1\n",
    "    return (x, capacities_left)\n",
    "\n",
    "def unique(seq):\n",
    "    seen = set()\n",
    "    seen_add = seen.add\n",
    "    return [ x for x in seq if not (x in seen or seen_add(x))]\n",
    "\n",
    "# state cost function\n",
    "def cost(x):\n",
    "    res = len(unique(x.values()))\n",
    "    \n",
    "    for i in xrange(C):\n",
    "        res += assignment_costs[x[i], i] \n",
    "    \n",
    "    return res\n",
    "        \n",
    "def get_best_in_neighborhood(x, capacities_left):\n",
    "    best_cost = cost(x)\n",
    "    orig_x = x.copy()\n",
    "    x_next = {}\n",
    "    \n",
    "    # first try to swap 2 persons\n",
    "    for i in xrange(C):\n",
    "        for j in xrange(C):\n",
    "            t = x[i]\n",
    "            x[i] = x[j]\n",
    "            x[j] = t\n",
    "            cx = cost(x)\n",
    "\n",
    "            if (cx < best_cost):\n",
    "                best_cost = cx\n",
    "                x_next = x.copy()\n",
    "            \n",
    "            t = x[i]\n",
    "            x[i] = x[j]\n",
    "            x[j] = t\n",
    "    \n",
    "    # now just one person relocation\n",
    "    from_fc = to_fc = -1\n",
    "    \n",
    "    for i in xrange(C):\n",
    "        for j in xrange(F):\n",
    "            if capacities_left[j] > 0:\n",
    "                x[i] = j\n",
    "                cx = cost(x)\n",
    "                \n",
    "                if (cx < best_cost):\n",
    "                    best_cost = cx\n",
    "                    x_next = x.copy()\n",
    "                    from_fc = orig_x[i]\n",
    "                    to_fc = j\n",
    "                \n",
    "                x = orig_x\n",
    "    \n",
    "    return (x_next, from_fc, to_fc)\n",
    "\n",
    "x, capacities_left = get_init_x()\n",
    "\n",
    "while True:    \n",
    "    x, f, t = get_best_in_neighborhood(x, capacities_left)\n",
    "    \n",
    "    if not bool(x):\n",
    "        break\n",
    "    \n",
    "    if (f >= 0):\n",
    "        print \"Move: \", cost(x)\n",
    "        capacities_left[f] += 1\n",
    "        capacities_left[t] -= 1\n",
    "    else:\n",
    "        print \"Swap: \", cost(x)\n",
    "    \n"
   ]
  },
  {
   "cell_type": "markdown",
   "metadata": {},
   "source": [
    "* (3 points). Implement the **simulated annealing algorithm** based on the best of your local optimization algorithms. Play with the schedule and see how it affects the results. Compare with the local optimization algorithm that you base upon. Note, that if implemented correctly, simulated annealing should improve over the local optimization algorithm."
   ]
  },
  {
   "cell_type": "code",
   "execution_count": 94,
   "metadata": {
    "collapsed": false
   },
   "outputs": [
    {
     "name": "stdout",
     "output_type": "stream",
     "text": [
      "30.399966617\n",
      "29.6084579605\n",
      "27.4670535891\n",
      "26.7382139187\n",
      "25.2844670229\n",
      "24.2355644819\n",
      "22.9646150349\n",
      "22.0405924771\n",
      "15.4729946442\n",
      "14.713996222\n",
      "14.2683961216\n",
      "13.9980982739\n",
      "13.0909495781\n"
     ]
    }
   ],
   "source": [
    "# annealing algorithm implementation\n",
    "\n",
    "np.random.seed(1)\n",
    "\n",
    "def get_neighborhood(x, capacities_left):\n",
    "    orig_x = x.copy()\n",
    "    \n",
    "    # list of tripples (state, transfered from, transfered to)\n",
    "    # we need transfered info to update our capacities data\n",
    "    res = [] \n",
    "\n",
    "    # first add all swaps\n",
    "    for i in xrange(C):\n",
    "        for j in xrange(C):\n",
    "            t = x[i]\n",
    "            x[i] = x[j]\n",
    "            x[j] = t\n",
    "\n",
    "            res.append((x.copy(), -1, -1))\n",
    "            \n",
    "            t = x[i]\n",
    "            x[i] = x[j]\n",
    "            x[j] = t\n",
    "    \n",
    "    # now add all single person transitions\n",
    "    from_fc = to_fc = -1\n",
    "    \n",
    "    for i in xrange(C):\n",
    "        for j in xrange(F):\n",
    "            if capacities_left[j] > 0:\n",
    "                x[i] = j\n",
    "                res.append((x.copy(), orig_x[i], j))\n",
    "                x = orig_x\n",
    "    \n",
    "    return res\n",
    "\n",
    "x, capacities_left = get_init_x()\n",
    "bestx = 0; bestf = 1e10; T = 100.; mp = 0.999\n",
    "MAX_ITER = 100\n",
    "niter = 0\n",
    "\n",
    "while niter < MAX_ITER:\n",
    "    nh = get_neighborhood(x, capacities_left)\n",
    "    y = nh[np.random.randint(0, len(nh))]\n",
    "    \n",
    "    if y[1] >= 0:\n",
    "        capacities_left[y[1]] += 1\n",
    "        capacities_left[y[2]] -= 1\n",
    "    \n",
    "    dE = cost(y[0]) - cost(x)\n",
    "    \n",
    "    if np.exp(-dE / T) > np.random.rand():\n",
    "        x = y[0]\n",
    "        \n",
    "        if cost(x) < bestf:\n",
    "            bestx = x\n",
    "            bestf = cost(x)\n",
    "            print bestf\n",
    "    \n",
    "    T *= mp\n",
    "    niter += 1"
   ]
  },
  {
   "cell_type": "markdown",
   "metadata": {},
   "source": [
    "Below is the solution that uses a mixed-integer solver (we will come to that in week 3). You can use it as a reference for small instances (for which it will give you a global optimum), and also reuse the visualization code. "
   ]
  },
  {
   "cell_type": "code",
   "execution_count": 29,
   "metadata": {
    "collapsed": false
   },
   "outputs": [
    {
     "name": "stdout",
     "output_type": "stream",
     "text": [
      "Optimize a model with 50 rows, 315 columns and 645 nonzeros\n",
      "Coefficient statistics:\n",
      "  Matrix range    [1e+00, 4e+00]\n",
      "  Objective range [2e-04, 5e+00]\n",
      "  Bounds range    [1e+00, 1e+00]\n",
      "  RHS range       [1e+00, 1e+00]\n",
      "Found heuristic solution: objective 33.3461\n",
      "Presolve time: 0.00s\n",
      "Presolved: 50 rows, 315 columns, 645 nonzeros\n",
      "Variable types: 0 continuous, 315 integer (315 binary)\n",
      "\n",
      "Root relaxation: objective 6.502350e+00, 56 iterations, 0.00 seconds\n",
      "\n",
      "    Nodes    |    Current Node    |     Objective Bounds      |     Work\n",
      " Expl Unexpl |  Obj  Depth IntInf | Incumbent    BestBd   Gap | It/Node Time\n",
      "\n",
      "     0     0    6.50235    0   10   33.34610    6.50235  80.5%     -    0s\n",
      "H    0     0                      11.5023502    6.50235  43.5%     -    0s\n",
      "H    0     0                       7.9698679    6.50235  18.4%     -    0s\n",
      "     0     0    6.83165    0   19    7.96987    6.83165  14.3%     -    0s\n",
      "     0     0    6.95887    0   20    7.96987    6.95887  12.7%     -    0s\n",
      "     0     0    7.14067    0   30    7.96987    7.14067  10.4%     -    0s\n",
      "     0     0    7.14067    0   10    7.96987    7.14067  10.4%     -    0s\n",
      "     0     0    7.14067    0   19    7.96987    7.14067  10.4%     -    0s\n",
      "     0     0    7.14067    0   22    7.96987    7.14067  10.4%     -    0s\n",
      "     0     0    7.16474    0   36    7.96987    7.16474  10.1%     -    0s\n",
      "     0     0    7.22559    0   32    7.96987    7.22559  9.34%     -    0s\n",
      "     0     0    7.24568    0   46    7.96987    7.24568  9.09%     -    0s\n",
      "     0     0    7.27879    0   50    7.96987    7.27879  8.67%     -    0s\n",
      "     0     0    7.33947    0   50    7.96987    7.33947  7.91%     -    0s\n",
      "     0     0    7.34582    0   52    7.96987    7.34582  7.83%     -    0s\n",
      "     0     0    7.34864    0   48    7.96987    7.34864  7.79%     -    0s\n",
      "     0     0    7.35008    0   58    7.96987    7.35008  7.78%     -    0s\n",
      "     0     0    7.35165    0   51    7.96987    7.35165  7.76%     -    0s\n",
      "H    0     0                       7.9344137    7.35165  7.34%     -    0s\n",
      "     0     0    7.35165    0    9    7.93441    7.35165  7.34%     -    0s\n",
      "     0     0    7.35165    0   17    7.93441    7.35165  7.34%     -    0s\n",
      "     0     0    7.35165    0   23    7.93441    7.35165  7.34%     -    0s\n",
      "     0     0    7.35165    0   14    7.93441    7.35165  7.34%     -    0s\n",
      "     0     0    7.35165    0   37    7.93441    7.35165  7.34%     -    0s\n",
      "     0     0    7.35165    0   43    7.93441    7.35165  7.34%     -    0s\n",
      "     0     0    7.35165    0   42    7.93441    7.35165  7.34%     -    0s\n",
      "     0     0    7.35832    0   44    7.93441    7.35832  7.26%     -    0s\n",
      "     0     0    7.36428    0   44    7.93441    7.36428  7.19%     -    0s\n",
      "     0     0    7.38093    0   43    7.93441    7.38093  6.98%     -    0s\n",
      "     0     0    7.38206    0   49    7.93441    7.38206  6.96%     -    0s\n",
      "     0     0    7.38798    0   56    7.93441    7.38798  6.89%     -    0s\n",
      "H    0     0                       7.9022676    7.38798  6.51%     -    0s\n",
      "     0     2    7.38798    0   56    7.90227    7.38798  6.51%     -    0s\n",
      "*   15     0              11       7.5711129    7.42023  1.99%   7.7    0s\n",
      "\n",
      "Cutting planes:\n",
      "  Gomory: 6\n",
      "  Cover: 25\n",
      "  Clique: 7\n",
      "  MIR: 5\n",
      "  Zero half: 3\n",
      "\n",
      "Explored 94 nodes (860 simplex iterations) in 0.18 seconds\n",
      "Thread count was 4 (of 4 available processors)\n",
      "\n",
      "Optimal solution found (tolerance 1.00e-04)\n",
      "Best objective 7.571112923135e+00, best bound 7.571112923135e+00, gap 0.0%\n",
      "[5, 5, 5, 5, 7, 7, 7, 7, 9, 9, 9, 9, 11, 11, 11, 11, 13, 13, 13, 13]\n"
     ]
    },
    {
     "data": {
      "image/png": "[encoded data removed]",
      "text/plain": [
       "<matplotlib.figure.Figure at 0x7f12f0cced50>"
      ]
     },
     "metadata": {},
     "output_type": "display_data"
    }
   ],
   "source": [
    "# create the model\n",
    "m = Model(\"facility\")\n",
    "\n",
    "y = []\n",
    "for i_f in range(F):\n",
    "    y.append(m.addVar(vtype=GRB.BINARY))\n",
    "\n",
    "x = []    \n",
    "for i_f in range(F):\n",
    "    x.append([])\n",
    "    for i_c in range(C):\n",
    "        x[i_f].append(m.addVar(vtype=GRB.BINARY))\n",
    "\n",
    "# the objective is to minimize the total fixed and variable costs\n",
    "m.modelSense = GRB.MINIMIZE\n",
    "\n",
    "# update model to integrate new variables\n",
    "m.update()\n",
    "\n",
    "# set optimization objective - minimize sum of fixed costs\n",
    "obj_summands = []\n",
    "for i_f in range(F):\n",
    "    obj_summands.append(opening_costs[i_f]*y[i_f])\n",
    "    \n",
    "for i_f in range(F):\n",
    "    for i_c in range(C):\n",
    "        obj_summands.append(assignment_costs[i_f][i_c]*x[i_f][i_c])\n",
    "\n",
    "m.setObjective(quicksum(obj_summands))  \n",
    "\n",
    "# set constraints\n",
    "for i_c in range(C):\n",
    "    client_constr_summands = [x[i_f][i_c] for i_f in range(F)]\n",
    "    m.addConstr(sum(client_constr_summands), GRB.EQUAL, 1.0)\n",
    "        \n",
    "for i_f in range(F):        \n",
    "    facility_constr_summands = [x[i_f][i_c] for i_c in range(C)]\n",
    "    m.addConstr(sum(facility_constr_summands), GRB.LESS_EQUAL, capacities[i_f]*y[i_f])       \n",
    "\n",
    "for i_f in range(F):        \n",
    "    facility_constr_summands = [x[i_f][i_c] for i_c in range(C)]\n",
    "    m.addConstr(max(facility_constr_summands), GRB.LESS_EQUAL, y[i_f])     \n",
    "\n",
    "# optimize\n",
    "  \n",
    "m.optimize()\n",
    "\n",
    "# plot the solution\n",
    "facilities_opened = [y[i_f].X for i_f in range(F)]    \n",
    "clients_assignment = [i_f for i_f in range(F) for i_c in range(C) if x[i_f][i_c].X != 0]\n",
    "\n",
    "plt.scatter(clients[0,:], clients[1,:], s=50.0, c=clients_assignment)\n",
    "plt.scatter(facilities[0,:], facilities[1,:], s=200.0, c=range(F), linewidth = [5*el for el in facilities_opened])\n",
    "plt.show()\n"
   ]
  },
  {
   "cell_type": "markdown",
   "metadata": {
    "collapsed": true
   },
   "source": [
    "** Problem 2 **: *Optimal vehicle speed scheduling (6 points) *-- (based on an additional exercise A3.20 to Boyd and Vandenberghe). \n",
    "\n",
    "A vehicle (say, an airplane) travels along a fixed path of *n* segments, between *n + 1* waypoints labeled *0, . . . , n*. Segment *i* starts at waypoint *i − 1* and terminates at waypoint *i*. The vehicle starts at time *t = 0* at waypoint *0*. It travels over each segment at a constant (nonnegative) speed; *si* is the speed on segment *i*. We have lower and upper limits on the speeds: *smin ≤ s ≤ smax*. The vehicle does not stop at the waypoints; it simply proceeds to the next segment. The travel distance of segment *i* is *di* (which is positive), so the travel time over segment *i* is *di/si*. We let *τi*, *i = 1, . . . , n,* denote the time at which the vehicle arrives at waypoint *i*. The vehicle is required to arrive at waypoint *i*, *for i = 1, . . . , n*, between times *τmin,i* and *τmax,i* , which are given. The vehicle consumes fuel over segment *i* at a rate that depends on its speed *Φ(s_i )=a s_i^2+b s_i+c kg/s*.\n",
    "\n",
    "You are given the data *d* (segment travel distances), *smin* and *smax* (speed bounds), *τmin* and *τmax* (waypoint arrival time bounds), and the the parameters *a*, *b*, and *c* (all parameters are in *veh_speed_sched_data.m*). Use the dynamic programming approach to find the schedule that allows spending the minimal amount of fuel. Use matplotlib command *step* to plot speed vs time for the optimal schedule. You will need to discretize some continuous variables, make sure you do it densely enough. **NB**: later in the course we will get back to this problem and attack it with a different method.\n"
   ]
  },
  {
   "cell_type": "code",
   "execution_count": 6,
   "metadata": {
    "collapsed": false
   },
   "outputs": [],
   "source": [
    "import scipy.io as sio\n",
    "\n",
    "mat_contents = sio.loadmat('veh_sched_data.mat')\n",
    "\n",
    "a = mat_contents['a']\n",
    "b = mat_contents['b']\n",
    "c = mat_contents['c']\n",
    "d = mat_contents['d']\n",
    "n = mat_contents['n']\n",
    "smin = mat_contents['smin']\n",
    "smax = mat_contents['smax']\n",
    "tau_min = mat_contents['tau_min']\n",
    "tau_max = mat_contents['tau_max']\n"
   ]
  },
  {
   "cell_type": "code",
   "execution_count": null,
   "metadata": {
    "collapsed": true
   },
   "outputs": [],
   "source": []
  }
 ],
 "metadata": {
  "kernelspec": {
   "display_name": "Python 2",
   "language": "python",
   "name": "python2"
  },
  "language_info": {
   "codemirror_mode": {
    "name": "ipython",
    "version": 2
   },
   "file_extension": ".py",
   "mimetype": "text/x-python",
   "name": "python",
   "nbconvert_exporter": "python",
   "pygments_lexer": "ipython2",
   "version": "2.7.10"
  }
 },
 "nbformat": 4,
 "nbformat_minor": 0
}
