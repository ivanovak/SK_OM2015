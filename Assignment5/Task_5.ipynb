{
 "cells": [
  {
   "cell_type": "markdown",
   "metadata": {},
   "source": [
    "** Problem 1 **: *Censored data fitting* (2 points). "
   ]
  },
  {
   "cell_type": "markdown",
   "metadata": {},
   "source": [
    "<img src=\"1.png\" / width=\"60%\">"
   ]
  },
  {
   "cell_type": "markdown",
   "metadata": {},
   "source": [
    "__Solution__"
   ]
  },
  {
   "cell_type": "code",
   "execution_count": 175,
   "metadata": {
    "collapsed": false
   },
   "outputs": [
    {
     "name": "stdout",
     "output_type": "stream",
     "text": [
      "(2, 100) (25,) (2,)\n"
     ]
    }
   ],
   "source": [
    "# data for censored fitting problem\n",
    "import numpy as np\n",
    "from numpy.random import randn\n",
    "\n",
    "n = 2;  # dimension of x's\n",
    "M = 25;  # number of non-censored data points\n",
    "K = 100; # total number of points\n",
    "\n",
    "c_true = randn(n)\n",
    "X = randn(n, K)\n",
    "y = np.dot(X.T, c_true) + 0.1 * np.sqrt(n) * randn(K)\n",
    "\n",
    "# Reorder measurements, then censor\n",
    "sort_ind = np.argsort(y)\n",
    "X = X[:, sort_ind];\n",
    "y = y[sort_ind[:M + 1]]\n",
    "D = (y[M - 1]+y[M]) / 2\n",
    "y = y[:M]\n",
    "\n",
    "print X.shape, y.shape, c_true.shape"
   ]
  },
  {
   "cell_type": "markdown",
   "metadata": {},
   "source": [
    "The difference between this problem and a classical least squares is that some of the equations $c_1x_1^i + c_2x_2^i$ should now be at least $D$. We will introduce $K-M$ values $\\Delta y_i$ and will try to fit the model where the error for censored values will be $(c_1x_1^i + c_2x_2^i - D - \\Delta y_i)^2, i > M, \\Delta y_i >= 0$, while for known $y_i (i \\leq M)$ residuals will remain the same $(c_1x_1^i + c_2x_2^i - y_i)^2$"
   ]
  },
  {
   "cell_type": "code",
   "execution_count": 176,
   "metadata": {
    "collapsed": false
   },
   "outputs": [
    {
     "name": "stdout",
     "output_type": "stream",
     "text": [
      "res:  0.570429599407\n",
      "c estimated:  [[-1.72002627  0.3523026 ]] c true: [-1.70209409  0.38722166]\n"
     ]
    }
   ],
   "source": [
    "# Solution for part a\n",
    "from cvxpy import *\n",
    "\n",
    "c = Variable(2, 1)\n",
    "delta_y = Variable(K - M)\n",
    "tail = D*np.ones(K - M)\n",
    "yn = np.hstack((y, tail))\n",
    "\n",
    "obj = Minimize(norm(X.T*c-yn-vstack(np.zeros(M), delta_y)))\n",
    "constraints = [ delta_y >= 0 ]\n",
    "prob = Problem(obj, constraints)\n",
    "res = prob.solve(solver=SCS)\n",
    "\n",
    "print \"res: \",res\n",
    "print \"c estimated: \", c.value.flatten(), \"c true:\", c_true"
   ]
  },
  {
   "cell_type": "markdown",
   "metadata": {},
   "source": [
    "Now lets fit the model using only the uncensored data and then calculate the relative errors."
   ]
  },
  {
   "cell_type": "code",
   "execution_count": 178,
   "metadata": {
    "collapsed": false
   },
   "outputs": [
    {
     "name": "stdout",
     "output_type": "stream",
     "text": [
      "res:  0.570096582518\n",
      "c estimated:  [[-1.71984295  0.35284394]] c true: [-1.70209409  0.38722166]\n",
      "Relative error case #1: 1.68609790502\n",
      "Relative error case #2: 1.68623492048\n"
     ]
    }
   ],
   "source": [
    "c2 = Variable(2, 1)\n",
    "\n",
    "obj = Minimize(norm(X[:, :M].T*c2-y))\n",
    "prob = Problem(obj, [])\n",
    "res = prob.solve(solver=SCS)\n",
    "\n",
    "print \"res: \",res\n",
    "print \"c estimated: \", c2.value.flatten(), \"c true:\", c_true\n",
    "\n",
    "print \"Relative error case #1:\", np.linalg.norm(c_true - c.value) / np.linalg.norm(c_true)\n",
    "print \"Relative error case #2:\", np.linalg.norm(c_true - c2.value) / np.linalg.norm(c_true)"
   ]
  },
  {
   "cell_type": "markdown",
   "metadata": {},
   "source": [
    "** Problem 2 **: *Optimal vehicle speed scheduling (3 points) *-- (additional exercise A3.20 to Boyd and Vandenberghe). \n",
    "\n",
    "A vehicle (say, an airplane) travels along a fixed path of *n* segments, between *n + 1* waypoints labeled *0, . . . , n*. Segment *i* starts at waypoint *i − 1* and terminates at waypoint *i*. The vehicle starts at time *t = 0* at waypoint *0*. It travels over each segment at a constant (nonnegative) speed; *si* is the speed on segment *i*. We have lower and upper limits on the speeds: *smin ≤ s ≤ smax*. The vehicle does not stop at the waypoints; it simply proceeds to the next segment. The travel distance of segment *i* is *di* (which is positive), so the travel time over segment *i* is *di/si*. We let *τi*, *i = 1, . . . , n,* denote the time at which the vehicle arrives at waypoint *i*. The vehicle is required to arrive at waypoint *i*, *for i = 1, . . . , n*, between times *τmin,i* and *τmax,i* , which are given. The vehicle consumes fuel over segment *i* at a rate that depends on its speed *Φ(s_i )=a s_i^2+b s_i+c kg/s*.\n",
    "\n",
    "You are given the data *d* (segment travel distances), *smin* and *smax* (speed bounds), *τmin* and *τmax* (waypoint arrival time bounds), and the the parameters *a*, *b*, and *c* (all parameters are in *veh_speed_sched_data.m*). For the given form of the potentials, find the way to reduce the problem to a convex optimization problem and solve it using CVX (NB: you need not necessarily use one of the “canonical” convex optimization formulations we saw in the course). Use MATLAB command stairs to plot speed vs time for the optimal schedule.  What are relative pros and cons for using convex optimization vs. dynamic programming for such task?"
   ]
  },
  {
   "cell_type": "markdown",
   "metadata": {},
   "source": [
    "__Solution__"
   ]
  },
  {
   "cell_type": "code",
   "execution_count": 232,
   "metadata": {
    "collapsed": false
   },
   "outputs": [],
   "source": [
    "import scipy.io as sio\n",
    "\n",
    "mat_contents = sio.loadmat('veh_sched_data.mat')\n",
    "\n",
    "n = np.int(mat_contents['n'])\n",
    "a = np.float(mat_contents['a'])\n",
    "b = np.float(mat_contents['b'])\n",
    "c = np.float(mat_contents['c'])\n",
    "d = np.array(mat_contents['d'], dtype=np.float)\n",
    "smin = np.array(mat_contents['smin'], dtype=np.float)\n",
    "smax = np.array(mat_contents['smax'], dtype=np.float)\n",
    "tau_min = np.array(mat_contents['tau_min'], dtype=np.float)\n",
    "tau_max = np.array(mat_contents['tau_max'], dtype=np.float)"
   ]
  },
  {
   "cell_type": "markdown",
   "metadata": {},
   "source": [
    "Priveously we have solved this problem using DP by discretizing on each time interval. We can now reformulate this problem as CVX. \n",
    "\n",
    "Objective function:\n",
    "\n",
    "$$f_0 = \\min_{s}\\sum\\limits_{i=1}^n (as_i^2 + bs_i + c) = \\min_{s}as^Ts+b\\Vert s\\Vert_1+cn$$"
   ]
  },
  {
   "cell_type": "markdown",
   "metadata": {},
   "source": [
    "s.t.: \n",
    "$$s_i \\geq 0, i \\in [1 \\dots n]$$\n",
    "$$smin_i \\leq s_i \\leq smax_i$$\n",
    "$$tmin_k \\leq \\sum\\limits_{i = 1}^k \\frac{d_i}{s_i} \\leq tmax_k, k \\in [1 \\dots n] $$"
   ]
  },
  {
   "cell_type": "code",
   "execution_count": 239,
   "metadata": {
    "collapsed": false
   },
   "outputs": [
    {
     "name": "stdout",
     "output_type": "stream",
     "text": [
      "res:  2608.1489648\n"
     ]
    }
   ],
   "source": [
    "from cvxpy import *\n",
    "import numpy as np\n",
    "\n",
    "t = Variable(n)\n",
    "\n",
    "obj_expr = (a*d[i]**2*inv_pos(t[0]) + b*d[i] + c*t[0])\n",
    "\n",
    "for i in xrange(1, n):\n",
    "    obj_expr += (a*d[i]**2*inv_pos(t[i] - t[i - 1]) + b*d[i] + c*(t[i] - t[i - 1]))\n",
    "\n",
    "obj = Minimize(obj_expr)\n",
    "\n",
    "constraints = [(tau_min[i] <= t[i]) for i in xrange(n)]\n",
    "constraints += [(tau_max[i] >= t[i]) for i in xrange(n)]\n",
    "\n",
    "for i in xrange(n - 1):\n",
    "    expr = smin[i]*t[i] \n",
    "    \n",
    "    if i > 0:\n",
    "        expr = (t[i] - t[i - 1])*smin[i]\n",
    "        \n",
    "    constraints += [expr <= d[i]]\n",
    "    \n",
    "    expr = smax[i]*t[i] \n",
    "    \n",
    "    if i > 0:\n",
    "        expr = (t[i] - t[i - 1])*smax[i]\n",
    "        \n",
    "    constraints += [expr >= d[i]]\n",
    "        \n",
    "\n",
    "prob = Problem(obj, constraints)\n",
    "res = prob.solve(solver=SCS)\n",
    "print \"res: \",res\n"
   ]
  },
  {
   "cell_type": "markdown",
   "metadata": {},
   "source": [
    "N.B.: in the first Assignment we ended up with $\\approx 2617$"
   ]
  },
  {
   "cell_type": "markdown",
   "metadata": {},
   "source": [
    "<img src=\"3.png\" width=\"65%\"/>"
   ]
  },
  {
   "cell_type": "markdown",
   "metadata": {},
   "source": [
    "__Solution__\n",
    "\n",
    "Here is Lagrangian:\n",
    "$$ L(x, \\lambda, \\nu) = p^Tx + \\lambda^T(Ax - b) + \\nu^T(d - Cx)$$"
   ]
  },
  {
   "cell_type": "markdown",
   "metadata": {},
   "source": [
    "$$ g(\\lambda, \\nu) = \\min_x{L(x, \\lambda, \\nu)} = min_x{\\left((p^T + \\lambda^TA + \\nu^TC)x - \\lambda^Tb + \\nu^Td\\right)}$$\n",
    "\n",
    "And here is dual problem formulation:"
   ]
  },
  {
   "cell_type": "markdown",
   "metadata": {
    "collapsed": true
   },
   "source": [
    "$$\\max_{\\nu, \\lambda}{-\\lambda^Tb + \\nu^Td}$$\n",
    "$$s.t.: p^T + \\lambda^TA + \\nu^TC = 0$$\n",
    "$$\\lambda \\geq 0$$"
   ]
  },
  {
   "cell_type": "markdown",
   "metadata": {
    "collapsed": true
   },
   "source": [
    "<img src=\"4.png\" width=\"65%\"/>"
   ]
  },
  {
   "cell_type": "markdown",
   "metadata": {},
   "source": [
    "__Solution__\n",
    "\n",
    "$$L(x, \\lambda, \\nu) = f_0(x) + \\lambda_1(-x_1 - 2x_2 + 1) + \\lambda_2(-3x_1 - x_2 + 1) = x_1^2 + x_2^2 - x_1x_2+ \\lambda_1(-x_1 - 2x_2 + 1) + \\lambda_2(-3x_1 - x_2 + 1) $$\n",
    "\n",
    "$$g(\\lambda) = \\min_{x}{L(x, \\lambda)}$$\n",
    "\n",
    "$$\\lambda_i \\geq 0, x = (x_1, x_2)^T$$\n",
    "\n",
    "Dual problem:\n",
    "\n",
    "$$\\max_{\\lambda \\geq 0}g(\\lambda)$$\n",
    "\n",
    "Let's improve our $L$ representation. First let's observe that $L$ is continuous in every point on all the directions as well as infinetely differentiable. Let's find partial derevatives of $L$ w.r.t $x_1$ and $x_2$:"
   ]
  },
  {
   "cell_type": "markdown",
   "metadata": {},
   "source": [
    "$$\\frac{\\partial L}{\\partial x_1} = 2x_1-x_2-\\lambda_1-3\\lambda_2$$\n",
    "$$\\frac{\\partial L}{\\partial x_2} = 2x_2-x_1-2\\lambda_1-\\lambda_2$$\n",
    "\n",
    "since we are minimizing a convex function the following equations should satisfy:\n",
    "\n",
    "$$\\left\\{ \\begin{array}{rl}\n",
    " 2x_1-x_2-\\lambda_1-3\\lambda_2 = 0 \\\\\n",
    " 2x_2-x_1-2\\lambda_1-\\lambda_2 = 0\n",
    "       \\end{array} \\right.$$\n",
    "       \n",
    "lets now substitute $x_{1,2}$ in our Lagrangian:"
   ]
  },
  {
   "cell_type": "markdown",
   "metadata": {},
   "source": [
    "<img src=\"wolfram.png\" / width=\"40%\">"
   ]
  },
  {
   "cell_type": "markdown",
   "metadata": {},
   "source": [
    "$$L(x, \\lambda, \\nu) = -\\frac{1}{3}\\left(7t_1^2+17t_2t_1+13t_2^2\\right) + t_1 + t_2, $$\n",
    "where $t_i = \\lambda_i$. "
   ]
  },
  {
   "cell_type": "markdown",
   "metadata": {},
   "source": [
    "$$L(x,\\lambda,\\nu) = -\\frac{1}{3}t^T\\left( \\begin{array}{ccc}\n",
    "7 & 8.5 \\\\\n",
    "8.5 & 13  \\end{array} \\right)t + t_1 + t_2$$"
   ]
  },
  {
   "cell_type": "code",
   "execution_count": 60,
   "metadata": {
    "collapsed": false
   },
   "outputs": [
    {
     "name": "stdout",
     "output_type": "stream",
     "text": [
      "res:  0.107141954258\n",
      "x:  [[ 0.28571457  0.35714399]]\n",
      "res dual:  0.107140193577\n",
      "lambdas:  [[  2.14091385e-01  -1.08233580e-05]]\n"
     ]
    }
   ],
   "source": [
    "import cvxpy as cx\n",
    "from cvxpy import *\n",
    "import numpy as np\n",
    "\n",
    "# Initial problem\n",
    "x = Variable(2, 1)\n",
    "Q = np.array([1, -0.5, -0.5, 1]).reshape(2, 2)\n",
    "A = np.array([1, 2, 3, 1]).reshape(2, 2)\n",
    "\n",
    "obj = Minimize(quad_form(x, Q))\n",
    "constraints = [ A*x >= 1 ]\n",
    "prob = Problem(obj, constraints)\n",
    "res = prob.solve(solver=SCS)\n",
    "print \"res: \",res\n",
    "print \"x: \", x.value.flatten()\n",
    "\n",
    "# Dual problem\n",
    "l = Variable(2, 1)\n",
    "Q2 = np.array([7, 8.5, 8.5, 13]).reshape(2, 2)\n",
    "dual_obj = Maximize(-1/3.*quad_form(l, Q2) + l[0] + l[1])\n",
    "constr = [l >= 0]\n",
    "prob = Problem(dual_obj, constr)\n",
    "res = prob.solve(solver=SCS)\n",
    "print \"res dual: \",res\n",
    "print \"lambdas: \", l.value.flatten()"
   ]
  },
  {
   "cell_type": "markdown",
   "metadata": {},
   "source": [
    "Strong duality holds, and thus the following KKT conditions are satisfied:\n",
    "\n",
    "$$\\left\\{ \\begin{array}{rl}\n",
    " Ax^* - 1>=0 \\\\\n",
    " \\lambda_{1,2} >= 0 \\\\\n",
    " \\frac{\\partial L}{\\partial x}\\left(x^*\\right) = 0 -* \n",
    "       \\end{array} \\right.$$\n",
    "       \n",
    "\\* - holds because of the equations on the partial derivatives above"
   ]
  },
  {
   "cell_type": "markdown",
   "metadata": {},
   "source": [
    "Lets calculate $f_i^*(x^*)$"
   ]
  },
  {
   "cell_type": "code",
   "execution_count": 62,
   "metadata": {
    "collapsed": false
   },
   "outputs": [
    {
     "name": "stdout",
     "output_type": "stream",
     "text": [
      "[[  2.55066088e-06]\n",
      " [  2.14287698e-01]]\n"
     ]
    }
   ],
   "source": [
    "print A.dot(x.value) - 1 # greater than 0"
   ]
  },
  {
   "cell_type": "markdown",
   "metadata": {},
   "source": [
    "From the values above (`lambdas` and $f_i^*(x^*)$)  values we can see that the last KKT condition also holds: $\\lambda_i^*f_i^*(x^*) = 0$"
   ]
  },
  {
   "cell_type": "markdown",
   "metadata": {
    "collapsed": true
   },
   "source": [
    "<img src=\"5_a.png\" width=\"65%\"/>\n",
    "\n",
    "<img src=\"5_b.png\" width=\"65%\"/>"
   ]
  },
  {
   "cell_type": "markdown",
   "metadata": {},
   "source": [
    "__Solution__"
   ]
  },
  {
   "cell_type": "markdown",
   "metadata": {},
   "source": [
    "a) Here is the way we can partialy dualize (the most straightforward approach I believe) $Ax \\leq b$:\n",
    "$$P\\left( \\left(\\begin{array}{ccc}\n",
    "A_1 \\\\\n",
    "0  \\end{array}\\right) + \\left(\\begin{array}{ccc}\n",
    "0 \\\\\n",
    "A_2  \\end{array}\\right) \\right)x \\leq b$$"
   ]
  },
  {
   "cell_type": "markdown",
   "metadata": {},
   "source": [
    "Here $P$ is a row permutation matrix, $A_1$ is our constraints for the Lagrangian and $A_2$ are those we left untouched."
   ]
  },
  {
   "cell_type": "markdown",
   "metadata": {},
   "source": [
    "$$L(x, \\lambda) = c^Tx + \\lambda^TP\\left(\\begin{array}{ccc}\n",
    "A_1 \\\\\n",
    "0  \\end{array}\\right)x$$\n",
    "Partial dual function:\n",
    "$$g(\\lambda)=\\min_{x \\in D' } L(x, \\lambda)$$"
   ]
  },
  {
   "cell_type": "markdown",
   "metadata": {},
   "source": [
    "And the $D'$ domain here contain those $x'$ that satisfy:\n",
    "$$P\\left(\\begin{array}{ccc}\n",
    "0 \\\\\n",
    "A_2  \\end{array}\\right)x' \\leq b$$"
   ]
  }
 ],
 "metadata": {
  "kernelspec": {
   "display_name": "Python 2",
   "language": "python",
   "name": "python2"
  },
  "language_info": {
   "codemirror_mode": {
    "name": "ipython",
    "version": 2
   },
   "file_extension": ".py",
   "mimetype": "text/x-python",
   "name": "python",
   "nbconvert_exporter": "python",
   "pygments_lexer": "ipython2",
   "version": "2.7.10"
  }
 },
 "nbformat": 4,
 "nbformat_minor": 0
}
