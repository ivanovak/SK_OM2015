{
 "cells": [
  {
   "cell_type": "markdown",
   "metadata": {},
   "source": [
    "## Assignment 6"
   ]
  },
  {
   "cell_type": "markdown",
   "metadata": {},
   "source": [
    "### Task 1"
   ]
  },
  {
   "cell_type": "markdown",
   "metadata": {
    "collapsed": true
   },
   "source": [
    "<img src=\"1.png\" width=\"60%\" />"
   ]
  },
  {
   "cell_type": "markdown",
   "metadata": {},
   "source": [
    "We will be solving LP problem in it's standard formulation via interior-point method"
   ]
  },
  {
   "cell_type": "markdown",
   "metadata": {},
   "source": [
    "obj: $min_{x}c^Tx$\n",
    "\n",
    "s.t.: $Ax \\leq b$\n"
   ]
  },
  {
   "cell_type": "markdown",
   "metadata": {},
   "source": [
    "Newton function: $g(x) = tc^Tx - \\sum\\limits_{i = 0}^{n}\\log(-a_ix+b_i)$ "
   ]
  },
  {
   "cell_type": "markdown",
   "metadata": {},
   "source": [
    "$Jac = tc^T + \\sum\\limits_{i=0}^n\\left(\\frac{a_i}{b_i-a_ix}\\right); Hess = -\\sum\\limits_{i=0}^n\\left(\\frac{a_i^Ta_i}{(b_i-a_ix)^2}\\right)$"
   ]
  },
  {
   "cell_type": "code",
   "execution_count": 86,
   "metadata": {
    "collapsed": false
   },
   "outputs": [
    {
     "data": {
      "image/png": "[encoded data removed]",
      "text/plain": [
       "<matplotlib.figure.Figure at 0x7f491556ffd0>"
      ]
     },
     "metadata": {},
     "output_type": "display_data"
    }
   ],
   "source": [
    "%matplotlib inline\n",
    "\n",
    "import matplotlib.pyplot as plt\n",
    "import numpy as np\n",
    "\n",
    "D = 0.05\n",
    "\n",
    "def show(A, b, path, ax):\n",
    "    C = A.shape[0]\n",
    "    ax.axis((-1.5, 1.5, -1.5, 1.5))\n",
    "    gr = np.mgrid[-1: 1: D, -1: 1: D]\n",
    "    n, m = gr.shape[1], gr.shape[2]\n",
    "\n",
    "    for i in xrange(n):\n",
    "        for j in xrange(m):\n",
    "            pt = (gr[0, i, j], gr[1, i, j])\n",
    "            sm = np.sum(np.sign(A.dot(pt) - b))\n",
    "\n",
    "            if (sm == -C):\n",
    "                ax.plot(pt[0], pt[1], 'b.')\n",
    "    \n",
    "    for (x, y) in path:\n",
    "        #print x, y\n",
    "        ax.plot(x, y, 'ro')\n",
    "    \n",
    "# Demo\n",
    "A = np.array([1, 0, -1, 0, 0, 1, 0, -1]).reshape((4,2))\n",
    "b = np.array([1, 1, 1, 1])\n",
    "show(A, b, [(0, 0), (1, 1)], plt)"
   ]
  },
  {
   "cell_type": "code",
   "execution_count": 130,
   "metadata": {
    "collapsed": false
   },
   "outputs": [
    {
     "data": {
      "image/png": "[encoded data removed]",
      "text/plain": [
       "<matplotlib.figure.Figure at 0x7f491922ec90>"
      ]
     },
     "metadata": {},
     "output_type": "display_data"
    }
   ],
   "source": [
    "from scipy.optimize import fmin_ncg\n",
    "\n",
    "eps = 1e-8\n",
    "\n",
    "def go(A, b, c, nw=fmin_ncg):\n",
    "    x = np.array([0., 0.])\n",
    "    res = [x]\n",
    "    t = 1.0\n",
    "    mu = 1.1\n",
    "    M = len(b)\n",
    "    \n",
    "    def f(x):\n",
    "        res = t * c.dot(x)\n",
    "        \n",
    "        for i in xrange(M):\n",
    "            res -= np.log(- A[i].dot(x) + b[i] )\n",
    "\n",
    "        return res\n",
    "    \n",
    "    def fp(x):\n",
    "        res = t * c\n",
    "        \n",
    "        for i in xrange(M):\n",
    "            res += A[i] / (- A[i].dot(x) + b[i])\n",
    "            \n",
    "        return res\n",
    "    \n",
    "    def fhess(x):\n",
    "        res = np.zeros((2, 2))\n",
    "        \n",
    "        for i in xrange(M):    \n",
    "            res -= np.outer(A[i], A[i]) / np.power(- A[i].dot(x) + b[i], 2) \n",
    "            \n",
    "        return res\n",
    "        \n",
    "# if eps will be smaller than 0.001 we'll encounter log warnings.\n",
    "    while M / t > 0.001:\n",
    "        x = nw(f, x, fp, fhess=fhess, disp=False)\n",
    "        t = t*mu\n",
    "        res.append(x)\n",
    "        \n",
    "    return res\n",
    "\n",
    "def test(fun, text):\n",
    "    f, axarr = plt.subplots(1, 3, figsize=(10,5))\n",
    "\n",
    "    A = np.array([1, 0, -1, 0, 0, 1, 0, -1]).reshape((4,2))\n",
    "    b = np.array([1, 1, 1, 1])\n",
    "    res = fun(A, b, np.random.rand(2))\n",
    "    show(A, b, res, axarr[0])\n",
    "    \n",
    "    A = np.array([1, 1, -1, 1, 1, -1, -1, -1]).reshape((4,2))\n",
    "    b = np.array([1, 1, 1, 1])\n",
    "    res = fun(A, b, np.random.rand(2))\n",
    "    show(A, b, res, axarr[1])\n",
    "    \n",
    "    A = np.array([0, 1, 2, -1, -2, -1]).reshape((3,2))\n",
    "    b = np.array([1, 1, 1])\n",
    "    res = fun(A, b, np.random.rand(2))\n",
    "    show(A, b, res, axarr[2])\n",
    "\n",
    "test(go, 'scipy.newton')"
   ]
  },
  {
   "cell_type": "code",
   "execution_count": 134,
   "metadata": {
    "collapsed": false
   },
   "outputs": [
    {
     "data": {
      "image/png": "[encoded data removed]",
      "text/plain": [
       "<matplotlib.figure.Figure at 0x7f4913134c90>"
      ]
     },
     "metadata": {},
     "output_type": "display_data"
    }
   ],
   "source": [
    "# with newton impl\n",
    "from numpy.linalg import norm\n",
    "import sys\n",
    "\n",
    "def go2(A, b, c):\n",
    "    global eps\n",
    "    \n",
    "    def newton(f, x, fp, fhess, disp=False):\n",
    "        prev = 1000\n",
    "        \n",
    "        while norm(f(x) - prev) > eps:\n",
    "            prev = f(x)\n",
    "            hess = fhess(x)\n",
    "\n",
    "            if numpy.linalg.cond(hess) < 1. / sys.float_info.epsilon:\n",
    "                x -= 0.01 * fp(x).dot(np.linalg.inv(hess))\n",
    "            else:\n",
    "                break\n",
    "        \n",
    "        return x\n",
    "\n",
    "    return go(A, b, c, newton)\n",
    "\n",
    "test(go2, 'with implemented newton')"
   ]
  },
  {
   "cell_type": "markdown",
   "metadata": {},
   "source": [
    "### Task 2"
   ]
  },
  {
   "cell_type": "code",
   "execution_count": 2,
   "metadata": {
    "collapsed": true
   },
   "outputs": [],
   "source": [
    "def GetMatrix(links,cities):\n",
    "\n",
    "    A = np.zeros((len(cities), len(cities)));\n",
    "    for i in xrange(0, len(links), 3):\n",
    "        A[cities.index(links[i]), cities.index(links[i + 1])] =  links[i+2]\n",
    "           \n",
    "    return A        "
   ]
  },
  {
   "cell_type": "code",
   "execution_count": 3,
   "metadata": {
    "collapsed": false
   },
   "outputs": [],
   "source": [
    "import numpy as np\n",
    "cities = ['Atlanta','Boston', 'Calgary', 'Charleston','Chicago','Dallas', \n",
    "          'Denver', 'Duluth', 'ElPaso','Helena', 'Houston', 'KansasCity', 'LasVegas',\n",
    "          'LittleRock', 'LosAngeles', 'Miami', 'Montreal', 'Nashville',\n",
    "          'NewOrleans', 'NewYork', 'OklahomaCity', 'Omaha', 'Phoenix',\n",
    "          'Pittsburgh', 'Portland', 'Raleigh', 'SaintLouis','SaltLakeCity',\n",
    "          'SanFrancisco','SantaFe', 'SaultStMarie', 'Seattle', 'Toronto',\n",
    "          'Vancouver', 'Washington', 'Winnipeg'];\n",
    "\n",
    "blue = ['Winnipeg','Helena',4,\n",
    "    'Portland','SaltLakeCity',6,\n",
    "    'Omaha','Chicago',4,\n",
    "    'Montreal','NewYork',3,\n",
    "    'KansasCity','SaintLouis',2,\n",
    "    'SantaFe','OklahomaCity',3,\n",
    "    'Atlanta','Miami',5];\n",
    "\n",
    "blue = GetMatrix(blue,cities);\n",
    "\n",
    "white = ['Calgary','Winnipeg',6,\n",
    "    'Chicago','Toronto',4,\n",
    "    'SaintLouis','Chicago',2,\n",
    "    'Pittsburgh','NewYork',2,\n",
    "    'SanFrancisco','SaltLakeCity',5,\n",
    "    'Phoenix','Denver',5,\n",
    "    'LittleRock','Nashville',3];\n",
    "\n",
    "white = GetMatrix(white,cities);\n",
    "\n",
    "green = ['Portland','SanFrancisco',5,\n",
    "    'Helena','Denver',4,\n",
    "    'SaintLouis','Pittsburgh',5,\n",
    "    'LittleRock','NewOrleans',3,\n",
    "    'ElPaso','Houston',6];\n",
    "\n",
    "green = GetMatrix(green,cities);\n",
    "\n",
    "red = ['Helena','Omaha',5,\n",
    "    'Denver','OklahomaCity',4,\n",
    "    'ElPaso','Dallas',4,\n",
    "    'NewOrleans','Miami',6,\n",
    "    'NewYork','Boston',2,\n",
    "    'Duluth','Chicago',3];\n",
    "\n",
    "red = GetMatrix(red,cities);\n",
    "\n",
    "purple = ['Helena','SaltLakeCity',3,\n",
    "    'Denver','Omaha',4,\n",
    "    'Duluth','Toronto',6,\n",
    "    'Charleston','Miami',4,\n",
    "    'SanFrancisco','LosAngeles',3];\n",
    "purple = GetMatrix(purple,cities);\n",
    "\n",
    "orange = ['LasVegas','SaltLakeCity',3,\n",
    "    'Helena','Duluth',6,\n",
    "    'Chicago','Pittsburgh',3,\n",
    "    'Denver','KansasCity',4,\n",
    "    'NewYork','Washington',2,\n",
    "    'Atlanta','NewOrleans',4];\n",
    "\n",
    "orange = GetMatrix(orange,cities);\n",
    "\n",
    "black = ['LosAngeles','ElPaso',6,\n",
    "    'Winnipeg','Duluth',4,\n",
    "    'SaultStMarie','Montreal',5,\n",
    "    'Nashville','Raleigh',3];\n",
    "\n",
    "black = GetMatrix(black,cities);\n",
    "\n",
    "yellow = ['Seattle','Helena',6,\n",
    "    'ElPaso','OklahomaCity',5,\n",
    "    'Nashville','Pittsburgh',4];\n",
    "\n",
    "yellow = GetMatrix(yellow,cities);\n",
    "\n",
    "gray = ['Vancouver','Seattle',1,\n",
    "    'Portland','Seattle',1,\n",
    "    'Vancouver','Calgary',3,\n",
    "    'Seattle','Calgary',4,\n",
    "    'Calgary','Helena',4,\n",
    "    'Winnipeg','SaultStMarie',6,\n",
    "    'Duluth','SaultStMarie',3,\n",
    "    'SaultStMarie','Toronto',2,\n",
    "    'Toronto','Montreal',3,\n",
    "    'Montreal','Boston',2,\n",
    "    'Toronto','Pittsburgh',2,\n",
    "    'LasVegas','LosAngeles',2,\n",
    "    'LosAngeles','Phoenix',3,\n",
    "    'Phoenix','ElPaso',3,\n",
    "    'ElPaso','SantaFe',2,\n",
    "    'Phoenix','SantaFe',3,\n",
    "    'SantaFe','Denver',2,\n",
    "    'Duluth','Omaha',2,\n",
    "    'Omaha','KansasCity',1,\n",
    "    'KansasCity','OklahomaCity',2,\n",
    "    'OklahomaCity','Dallas',2,\n",
    "    'Dallas','Houston',1,\n",
    "    'Houston','NewOrleans',2,\n",
    "    'Dallas','LittleRock',2,\n",
    "    'OklahomaCity','LittleRock',2,\n",
    "    'LittleRock','SaintLouis',2,\n",
    "    'SaintLouis','Nashville',2,\n",
    "    'Nashville','Atlanta',1,\n",
    "    'Atlanta','Charleston',2,\n",
    "    'Charleston','Raleigh',2,\n",
    "    'Atlanta','Raleigh',2,\n",
    "    'Raleigh','Washington',2,\n",
    "    'Raleigh','Pittsburgh',2,\n",
    "    'Washington','Pittsburgh',2];\n",
    "\n",
    "gray = GetMatrix(gray,cities);\n",
    "\n",
    "profit = blue*1.0+white*1.5+green*2.0+red*2.0+purple*2.5+orange*1.0+black*1.0+yellow*2.0+gray*1.0;\n",
    "\n",
    "#TODO: symmetrize the matrix if necessary by uncommenting the next line\n",
    "#profit_sym = np.dstack([profit, profit.transpose()]).max(axis=2)\n",
    "\n",
    "costs = np.ones((len(cities),1))*10;\n",
    "\n",
    "#TODO put your solution here"
   ]
  },
  {
   "cell_type": "markdown",
   "metadata": {},
   "source": []
  },
  {
   "cell_type": "code",
   "execution_count": 3,
   "metadata": {
    "collapsed": false
   },
   "outputs": [
    {
     "data": {
      "image/png": "[encoded data removed]",
      "text/plain": [
       "<matplotlib.figure.Figure at 0x7f494d166b90>"
      ]
     },
     "metadata": {},
     "output_type": "display_data"
    }
   ],
   "source": [
    "%matplotlib inline\n",
    "\n",
    "import matplotlib\n",
    "import numpy as np\n",
    "import matplotlib.pyplot as plt\n",
    "import networkx as nx\n",
    "\n",
    "G=nx.gnp_random_graph(8,0.6)\n",
    "nx.draw(G)"
   ]
  },
  {
   "cell_type": "code",
   "execution_count": null,
   "metadata": {
    "collapsed": true
   },
   "outputs": [],
   "source": []
  }
 ],
 "metadata": {
  "kernelspec": {
   "display_name": "Python 2",
   "language": "python",
   "name": "python2"
  },
  "language_info": {
   "codemirror_mode": {
    "name": "ipython",
    "version": 2
   },
   "file_extension": ".py",
   "mimetype": "text/x-python",
   "name": "python",
   "nbconvert_exporter": "python",
   "pygments_lexer": "ipython2",
   "version": "2.7.10"
  }
 },
 "nbformat": 4,
 "nbformat_minor": 0
}
