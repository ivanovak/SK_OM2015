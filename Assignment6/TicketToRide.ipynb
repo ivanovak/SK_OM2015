{
 "cells": [
  {
   "cell_type": "markdown",
   "metadata": {},
   "source": [
    "## Assignment 6"
   ]
  },
  {
   "cell_type": "markdown",
   "metadata": {},
   "source": [
    "### Task 1"
   ]
  },
  {
   "cell_type": "markdown",
   "metadata": {
    "collapsed": true
   },
   "source": [
    "<img src=\"1.png\" width=\"60%\" />"
   ]
  },
  {
   "cell_type": "markdown",
   "metadata": {},
   "source": [
    "We will be solving LP problem in it's standard formulation via interior-point method"
   ]
  },
  {
   "cell_type": "markdown",
   "metadata": {},
   "source": [
    "obj: $min_{x}c^Tx$\n",
    "\n",
    "s.t.: $Ax \\leq b$\n"
   ]
  },
  {
   "cell_type": "markdown",
   "metadata": {},
   "source": [
    "Newton function: $g(x) = tc^Tx - \\sum\\limits_{i = 0}^{n}\\log(-a_ix+b_i)$ "
   ]
  },
  {
   "cell_type": "markdown",
   "metadata": {},
   "source": [
    "$Jac = tc^T + \\sum\\limits_{i=0}^n\\left(\\frac{a_i}{b_i-a_ix}\\right); Hess = \\sum\\limits_{i=0}^n\\left(\\frac{a_i^Ta_i}{(b_i-a_ix)^2}\\right)$"
   ]
  },
  {
   "cell_type": "code",
   "execution_count": 15,
   "metadata": {
    "collapsed": false
   },
   "outputs": [
    {
     "data": {
      "image/png": "[encoded data removed]",
      "text/plain": [
       "<matplotlib.figure.Figure at 0x7f1adba53890>"
      ]
     },
     "metadata": {},
     "output_type": "display_data"
    }
   ],
   "source": [
    "%matplotlib inline\n",
    "\n",
    "import matplotlib.pyplot as plt\n",
    "import numpy as np\n",
    "\n",
    "D = 0.05\n",
    "\n",
    "def show(A, b, path, ax):\n",
    "    C = A.shape[0]\n",
    "    ax.axis((-1.5, 1.5, -1.5, 1.5))\n",
    "    gr = np.mgrid[-1: 1: D, -1: 1: D]\n",
    "    n, m = gr.shape[1], gr.shape[2]\n",
    "\n",
    "    for i in xrange(n):\n",
    "        for j in xrange(m):\n",
    "            pt = (gr[0, i, j], gr[1, i, j])\n",
    "            sm = np.sum(np.sign(A.dot(pt) - b))\n",
    "\n",
    "            if (sm == -C):\n",
    "                ax.plot(pt[0], pt[1], 'b.')\n",
    "    \n",
    "    for (x, y) in path:\n",
    "        #print x, y\n",
    "        ax.plot(x, y, 'ro')\n",
    "    \n",
    "# Demo\n",
    "A = np.array([1, 0, -1, 0, 0, 1, 0, -1]).reshape((4,2))\n",
    "b = np.array([1, 1, 1, 1])\n",
    "show(A, b, [(0, 0), (1, 1)], plt)"
   ]
  },
  {
   "cell_type": "code",
   "execution_count": 16,
   "metadata": {
    "collapsed": false
   },
   "outputs": [
    {
     "data": {
      "image/png": "[encoded data removed]",
      "text/plain": [
       "<matplotlib.figure.Figure at 0x7f1adfd28f10>"
      ]
     },
     "metadata": {},
     "output_type": "display_data"
    }
   ],
   "source": [
    "from scipy.optimize import fmin_ncg\n",
    "\n",
    "eps = 1e-8\n",
    "\n",
    "def go(A, b, c, nw=fmin_ncg):\n",
    "    x = np.array([0., 0.])\n",
    "    res = [x]\n",
    "    t = 1.0\n",
    "    mu = 1.1\n",
    "    M = len(b)\n",
    "    \n",
    "    def f(x):\n",
    "        res = t * c.dot(x)\n",
    "        \n",
    "        for i in xrange(M):\n",
    "            res -= np.log(- A[i].dot(x) + b[i] )\n",
    "\n",
    "        return res\n",
    "    \n",
    "    def fp(x):\n",
    "        res = t * c\n",
    "        \n",
    "        for i in xrange(M):\n",
    "            res += A[i] / (- A[i].dot(x) + b[i])\n",
    "            \n",
    "        return res\n",
    "    \n",
    "    def fhess(x):\n",
    "        res = np.zeros((2, 2))\n",
    "        \n",
    "        for i in xrange(M):    \n",
    "            res += np.outer(A[i], A[i]) / np.power(- A[i].dot(x) + b[i], 2) \n",
    "            \n",
    "        return res\n",
    "        \n",
    "# if eps will be smaller than 0.001 we'll encounter log warnings.\n",
    "    while M / t > 0.001:\n",
    "        x = nw(f, x, fp, fhess=fhess, disp=False)\n",
    "        t = t*mu\n",
    "        res.append(x)\n",
    "        \n",
    "    return res\n",
    "\n",
    "np.random.seed(42)\n",
    "c1, c2, c3 = np.random.rand(2), np.random.rand(2), np.random.rand(2)\n",
    "\n",
    "def test(fun, text):\n",
    "    global c1, c2, c3\n",
    "    f, axarr = plt.subplots(1, 3, figsize=(10,5))\n",
    "    f.suptitle(text, fontsize=16)\n",
    "    \n",
    "    A = np.array([1, 0, -1, 0, 0, 1, 0, -1]).reshape((4,2))\n",
    "    b = np.array([1, 1, 1, 1])\n",
    "    res = fun(A, b, c1)\n",
    "    show(A, b, res, axarr[0])\n",
    "    \n",
    "    A = np.array([1, 1, -1, 1, 1, -1, -1, -1]).reshape((4,2))\n",
    "    b = np.array([1, 1, 1, 1])\n",
    "    res = fun(A, b, c2)\n",
    "    show(A, b, res, axarr[1])\n",
    "    \n",
    "    A = np.array([0, 1, 2, -1, -2, -1]).reshape((3,2))\n",
    "    b = np.array([1, 1, 1])\n",
    "    res = fun(A, b, c3)\n",
    "    show(A, b, res, axarr[2])\n",
    "\n",
    "test(go, 'scipy.newton')"
   ]
  },
  {
   "cell_type": "code",
   "execution_count": 17,
   "metadata": {
    "collapsed": false
   },
   "outputs": [
    {
     "data": {
      "image/png": "[encoded data removed]",
      "text/plain": [
       "<matplotlib.figure.Figure at 0x7f1adbdbe550>"
      ]
     },
     "metadata": {},
     "output_type": "display_data"
    }
   ],
   "source": [
    "# with newton impl\n",
    "from numpy.linalg import norm\n",
    "import numpy\n",
    "import sys\n",
    "\n",
    "def go2(A, b, c):\n",
    "    global eps\n",
    "    \n",
    "    def newton(f, x, fp, fhess, disp=False):\n",
    "        prev = 1000\n",
    "        \n",
    "        while norm(f(x) - prev) > eps:\n",
    "            prev = f(x)\n",
    "            hess = fhess(x)\n",
    "\n",
    "            if numpy.linalg.cond(hess) < 1. / sys.float_info.epsilon:\n",
    "                x -= 0.01 * fp(x).dot(np.linalg.inv(hess))\n",
    "            else:\n",
    "                break\n",
    "\n",
    "        return np.array(x)\n",
    "\n",
    "    return go(A, b, c, newton)\n",
    "\n",
    "test(go2, 'with implemented newton')"
   ]
  },
  {
   "cell_type": "markdown",
   "metadata": {},
   "source": [
    "### Task 2"
   ]
  },
  {
   "cell_type": "code",
   "execution_count": 18,
   "metadata": {
    "collapsed": true
   },
   "outputs": [],
   "source": [
    "def GetMatrix(links,cities):\n",
    "\n",
    "    A = np.zeros((len(cities), len(cities)));\n",
    "    for i in xrange(0, len(links), 3):\n",
    "        A[cities.index(links[i]), cities.index(links[i + 1])] =  links[i+2]\n",
    "        A[cities.index(links[i + 1]), cities.index(links[i])] =  links[i+2]\n",
    "    \n",
    "    return A        "
   ]
  },
  {
   "cell_type": "code",
   "execution_count": 19,
   "metadata": {
    "collapsed": false
   },
   "outputs": [],
   "source": [
    "import numpy as np\n",
    "cities = ['Atlanta','Boston', 'Calgary', 'Charleston','Chicago','Dallas', \n",
    "          'Denver', 'Duluth', 'ElPaso','Helena', 'Houston', 'KansasCity', 'LasVegas',\n",
    "          'LittleRock', 'LosAngeles', 'Miami', 'Montreal', 'Nashville',\n",
    "          'NewOrleans', 'NewYork', 'OklahomaCity', 'Omaha', 'Phoenix',\n",
    "          'Pittsburgh', 'Portland', 'Raleigh', 'SaintLouis','SaltLakeCity',\n",
    "          'SanFrancisco','SantaFe', 'SaultStMarie', 'Seattle', 'Toronto',\n",
    "          'Vancouver', 'Washington', 'Winnipeg'];\n",
    "\n",
    "blue = ['Winnipeg','Helena',4,\n",
    "    'Portland','SaltLakeCity',6,\n",
    "    'Omaha','Chicago',4,\n",
    "    'Montreal','NewYork',3,\n",
    "    'KansasCity','SaintLouis',2,\n",
    "    'SantaFe','OklahomaCity',3,\n",
    "    'Atlanta','Miami',5];\n",
    "\n",
    "blue = GetMatrix(blue,cities);\n",
    "\n",
    "white = ['Calgary','Winnipeg',6,\n",
    "    'Chicago','Toronto',4,\n",
    "    'SaintLouis','Chicago',2,\n",
    "    'Pittsburgh','NewYork',2,\n",
    "    'SanFrancisco','SaltLakeCity',5,\n",
    "    'Phoenix','Denver',5,\n",
    "    'LittleRock','Nashville',3];\n",
    "\n",
    "white = GetMatrix(white,cities);\n",
    "\n",
    "green = ['Portland','SanFrancisco',5,\n",
    "    'Helena','Denver',4,\n",
    "    'SaintLouis','Pittsburgh',5,\n",
    "    'LittleRock','NewOrleans',3,\n",
    "    'ElPaso','Houston',6];\n",
    "\n",
    "green = GetMatrix(green,cities);\n",
    "\n",
    "red = ['Helena','Omaha',5,\n",
    "    'Denver','OklahomaCity',4,\n",
    "    'ElPaso','Dallas',4,\n",
    "    'NewOrleans','Miami',6,\n",
    "    'NewYork','Boston',2,\n",
    "    'Duluth','Chicago',3];\n",
    "\n",
    "red = GetMatrix(red,cities);\n",
    "\n",
    "purple = ['Helena','SaltLakeCity',3,\n",
    "    'Denver','Omaha',4,\n",
    "    'Duluth','Toronto',6,\n",
    "    'Charleston','Miami',4,\n",
    "    'SanFrancisco','LosAngeles',3];\n",
    "purple = GetMatrix(purple,cities);\n",
    "\n",
    "orange = ['LasVegas','SaltLakeCity',3,\n",
    "    'Helena','Duluth',6,\n",
    "    'Chicago','Pittsburgh',3,\n",
    "    'Denver','KansasCity',4,\n",
    "    'NewYork','Washington',2,\n",
    "    'Atlanta','NewOrleans',4];\n",
    "\n",
    "orange = GetMatrix(orange,cities);\n",
    "\n",
    "black = ['LosAngeles','ElPaso',6,\n",
    "    'Winnipeg','Duluth',4,\n",
    "    'SaultStMarie','Montreal',5,\n",
    "    'Nashville','Raleigh',3];\n",
    "\n",
    "black = GetMatrix(black,cities);\n",
    "\n",
    "yellow = ['Seattle','Helena',6,\n",
    "    'ElPaso','OklahomaCity',5,\n",
    "    'Nashville','Pittsburgh',4];\n",
    "\n",
    "yellow = GetMatrix(yellow,cities);\n",
    "\n",
    "gray = ['Vancouver','Seattle',1,\n",
    "    'Portland','Seattle',1,\n",
    "    'Vancouver','Calgary',3,\n",
    "    'Seattle','Calgary',4,\n",
    "    'Calgary','Helena',4,\n",
    "    'Winnipeg','SaultStMarie',6,\n",
    "    'Duluth','SaultStMarie',3,\n",
    "    'SaultStMarie','Toronto',2,\n",
    "    'Toronto','Montreal',3,\n",
    "    'Montreal','Boston',2,\n",
    "    'Toronto','Pittsburgh',2,\n",
    "    'LasVegas','LosAngeles',2,\n",
    "    'LosAngeles','Phoenix',3,\n",
    "    'Phoenix','ElPaso',3,\n",
    "    'ElPaso','SantaFe',2,\n",
    "    'Phoenix','SantaFe',3,\n",
    "    'SantaFe','Denver',2,\n",
    "    'Duluth','Omaha',2,\n",
    "    'Omaha','KansasCity',1,\n",
    "    'KansasCity','OklahomaCity',2,\n",
    "    'OklahomaCity','Dallas',2,\n",
    "    'Dallas','Houston',1,\n",
    "    'Houston','NewOrleans',2,\n",
    "    'Dallas','LittleRock',2,\n",
    "    'OklahomaCity','LittleRock',2,\n",
    "    'LittleRock','SaintLouis',2,\n",
    "    'SaintLouis','Nashville',2,\n",
    "    'Nashville','Atlanta',1,\n",
    "    'Atlanta','Charleston',2,\n",
    "    'Charleston','Raleigh',2,\n",
    "    'Atlanta','Raleigh',2,\n",
    "    'Raleigh','Washington',2,\n",
    "    'Raleigh','Pittsburgh',2,\n",
    "    'Washington','Pittsburgh',2];\n",
    "\n",
    "gray = GetMatrix(gray,cities);\n",
    "\n",
    "profit = blue*1.0+white*1.5+green*2.0+red*2.0+purple*2.5+orange*1.0+black*1.0+yellow*2.0+gray*1.0;\n",
    "\n",
    "#TODO: symmetrize the matrix if necessary by uncommenting the next line\n",
    "#profit_sym = np.dstack([profit, profit.transpose()]).max(axis=2)\n",
    "\n",
    "costs = np.ones((len(cities),1))*10;\n",
    "\n",
    "#TODO put your solution here"
   ]
  },
  {
   "cell_type": "markdown",
   "metadata": {},
   "source": [
    "<img src=\"TicketToRide.png\" />"
   ]
  },
  {
   "cell_type": "markdown",
   "metadata": {},
   "source": [
    "__Solution__\n",
    "\n",
    "Lets reformulate the problem as st-mincut problem. \n",
    "\n",
    "Let first denote our graph $G=(V, E)$ and let the cost of the vertex $x_i$ be $p_i$ and profit of the $(x_i, x_j)$ edge be $p_{x_i,x_j}$. \n",
    "\n",
    "We will introduce two auxiliary vertices $s$ and $t$ and a set of auxiliary edges as follows:\n",
    "* for all $x_i$ we will have an edge $(s, x_i)$ with cost of $p_{s, x_i} = \\frac{1}{2}\\sum\\limits_{j \\in I(i)} p_{x_i, x_j}$ where $I(i)$ is a set of indices of adjustment to $x_i$ vertices.\n",
    "* for all $x_i$ there will be an edge $(x_i, t)$ having cost $p_{x_i, t} = p_i$    \n",
    "\n",
    "Lets now introduce the loss function $L$. First of all, lets observe that if we are taking $x_i$ vertex, we will lose $p_i$ and if we not taking $e = (x_i, x_j)$ we are losing $p_{i, j}$. Thus, $$L = \\sum\\limits_{i \\in Taken(V)} p_i + \\frac{1}{2}\\sum\\limits_{(u, v) \\in Taken(V)\\times Taken(V)} p_{u, v}$$\n",
    "\n",
    "If we will think of st-mincut on our graph, it is easy to prove that it will sum up exactly to the loss function if we will make a little adjustment multiplying every $p_{i,j}$ by $\\frac{1}{4}$."
   ]
  },
  {
   "cell_type": "code",
   "execution_count": 73,
   "metadata": {
    "collapsed": false
   },
   "outputs": [
    {
     "name": "stdout",
     "output_type": "stream",
     "text": [
      "res:  333.0\n",
      "x (zeros - cities we take):  [ 0.  1.  0.  0.  0.  0.  0.  0.  0.  0.  0.  1.  1.  0.  0.  0.  1.  0.\n",
      "  0.  1.  0.  0.  0.  0.  0.  1.  0.  0.  0.  0.  0.  0.  0.  1.  1.  0.\n",
      "  0.  1.]\n"
     ]
    }
   ],
   "source": [
    "import cvxpy as cx\n",
    "from cvxpy import *\n",
    "import pandas as pd\n",
    "\n",
    "mcost = np.zeros((V + 2, V + 2), dtype = np.float) # cost for modified graph\n",
    "\n",
    "# setting up costs for edges that is outcomming from `s`\n",
    "for i in xrange(V):\n",
    "    sm = 0\n",
    "    for j in xrange(V):\n",
    "        sm += profit[i, j]\n",
    "    \n",
    "    mcost[V, i] = sm / 2.\n",
    "    # setting up costs for the `t` vertex incoming edges\n",
    "    mcost[i, V + 1] = costs[i]\n",
    "    \n",
    "for i in xrange(V):\n",
    "    for j in xrange(V):\n",
    "        mcost[i, j] = profit[i, j] / 2.\n",
    "\n",
    "V = len(cities)\n",
    "x = Int(V + 2) # + s t\n",
    "\n",
    "obj_func = Constant(0)\n",
    "\n",
    "for i in xrange(V + 2):\n",
    "    for j in xrange(V + 2):\n",
    "        obj_func += mcost[i, j] * max_elemwise(x[j] - x[i], 0)\n",
    "\n",
    "obj = Minimize(obj_func)\n",
    "\n",
    "constr1 = [(x[i] <= 1) for i in xrange(V)]\n",
    "constr2 = [(x[i] >= 0) for i in xrange(V)]\n",
    "\n",
    "prob = Problem(obj, [ x[V] == 0, \n",
    "                     x[V + 1] == 1] + constr1 + constr2)\n",
    "res = prob.solve(solver = GUROBI)\n",
    "\n",
    "print \"res: \",res\n",
    "x = np.array(x.value).flatten()\n",
    "print \"x (zeros - cities we take): \", x\n",
    "\n",
    "# lets make 1s for cities we take and 0 otherwise (swap 0 and 1)\n",
    "x = x[:36]\n",
    "for i in xrange(V):\n",
    "    x[i] = 1 - x[i]"
   ]
  },
  {
   "cell_type": "code",
   "execution_count": 80,
   "metadata": {
    "collapsed": false
   },
   "outputs": [
    {
     "name": "stdout",
     "output_type": "stream",
     "text": [
      "[ 1.  0.  1.  1.  1.  1.  1.  1.  1.  1.  1.  0.  0.  1.  1.  1.  0.  1.\n",
      "  1.  0.  1.  1.  1.  1.  1.  0.  1.  1.  1.  1.  1.  1.  1.  0.  0.  1.]\n",
      "Opening cost:  280.0\n"
     ]
    }
   ],
   "source": [
    "print x\n",
    "opening_cost = 0\n",
    "for i in xrange(V):\n",
    "    opening_cost += x[i] * costs[i]\n",
    "\n",
    "opening_cost = np.float(opening_cost)\n",
    "print \"Opening cost: \", opening_cost"
   ]
  },
  {
   "cell_type": "code",
   "execution_count": 81,
   "metadata": {
    "collapsed": false
   },
   "outputs": [
    {
     "name": "stdout",
     "output_type": "stream",
     "text": [
      "Edges profit:  305.5\n",
      "total profit:  25.5\n"
     ]
    }
   ],
   "source": [
    "ind = []\n",
    "for i in xrange(V):\n",
    "    if x[i] == 1:\n",
    "        ind.append(i)\n",
    "\n",
    "res = 0.\n",
    "for i in xrange(len(ind)):\n",
    "    for j in xrange(i + 1, len(ind)):\n",
    "        if not (profit[i, j] == profit[j, i]):\n",
    "            print profit[i, j], profit[j, i]\n",
    "            \n",
    "        res += profit[ind[i], ind[j]]\n",
    "        \n",
    "print \"Edges profit: \", res\n",
    "print \"total profit: \", res - opening_cost"
   ]
  },
  {
   "cell_type": "markdown",
   "metadata": {},
   "source": [
    "And here is a picture:\n",
    "<img src=\"sol.png\" />"
   ]
  },
  {
   "cell_type": "code",
   "execution_count": null,
   "metadata": {
    "collapsed": true
   },
   "outputs": [],
   "source": []
  }
 ],
 "metadata": {
  "kernelspec": {
   "display_name": "Python 2",
   "language": "python",
   "name": "python2"
  },
  "language_info": {
   "codemirror_mode": {
    "name": "ipython",
    "version": 2
   },
   "file_extension": ".py",
   "mimetype": "text/x-python",
   "name": "python",
   "nbconvert_exporter": "python",
   "pygments_lexer": "ipython2",
   "version": "2.7.11"
  }
 },
 "nbformat": 4,
 "nbformat_minor": 0
}
