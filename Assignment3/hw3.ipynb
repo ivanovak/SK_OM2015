{
 "cells": [
  {
   "cell_type": "markdown",
   "metadata": {},
   "source": [
    "<img src=\"pr1.png\" />"
   ]
  },
  {
   "cell_type": "code",
   "execution_count": 1,
   "metadata": {
    "collapsed": true
   },
   "outputs": [],
   "source": [
    "import cvxpy\n",
    "import gurobipy\n",
    "from cvxpy import *\n",
    "import numpy as np"
   ]
  },
  {
   "cell_type": "code",
   "execution_count": 24,
   "metadata": {
    "collapsed": false,
    "scrolled": false
   },
   "outputs": [
    {
     "name": "stdout",
     "output_type": "stream",
     "text": [
      "Result:  95.4910638371\n",
      "Here are the flows size:  [[ 1.  1.  1.  1.  4.  1.  3.  2.  1.  1.  1.  5.  6.  2.  1.  3.  4.]]\n"
     ]
    }
   ],
   "source": [
    "np.random.seed(42)\n",
    "\n",
    "# initial matrix\n",
    "m = np.array([[ 5 , 5 , 10, 10, 10 ],\n",
    "              [ 5 , 5 , 10, 20, 10 ],\n",
    "              [ 0 , 5 , 5 , 10,  5 ],\n",
    "              [ 0 , 0 , 0 , 5 ,  0 ]])\n",
    "\n",
    "N, M = m.shape\n",
    "C = N * M\n",
    "\n",
    "# delta matrix\n",
    "d = np.ones((N, M)) * 6\n",
    "d = d - m\n",
    "\n",
    "def cost(i1, j1, i2, j2):\n",
    "    assert(i1 < N and i2 < N and j1 < M and j2 < M and \n",
    "           i1 >= 0 and i2 >= 0 and j1 >= 0 and j2 >= 0)\n",
    "    \n",
    "    if i1 == i2 and j1 == j2:\n",
    "        return 1000000\n",
    "    \n",
    "    return np.sqrt(np.power(np.abs(i1 - i2), 2) + np.power(np.abs(j1 - j2), 2))\n",
    "\n",
    "m = m.reshape(C,1)\n",
    "d = d.reshape(C,1)\n",
    "\n",
    "f = Int(C * C)\n",
    "c = np.zeros(C * C)\n",
    "\n",
    "for i1 in xrange(N):\n",
    "    for j1 in xrange(M):\n",
    "        for i2 in xrange(N):\n",
    "            for j2 in xrange(M):\n",
    "                c[(i1 * M + j1) * C + (i2 * M + j2)] = cost(i1, j1, i2, j2)\n",
    "                \n",
    "# each cell can either be only a consumer or \"donor\".\n",
    "# otherwise we might get non integer solution\n",
    "def pred(x):\n",
    "    if x < 0:\n",
    "        return 1\n",
    "    \n",
    "    return 0\n",
    "\n",
    "flows_are_positive = [ (f[i] >= 0) for i in xrange(C * C) ]\n",
    "\n",
    "pd = np.vectorize(pred)\n",
    "is_donor = pd(d).reshape(C,)\n",
    "flow_network_constraints = [ (-is_donor[i] * cvxpy.sum_entries(f[i*C:i*C + C]) + \\\n",
    "                             (1 - is_donor[i]) * cvxpy.sum_entries(f[i:C*C:C]) == d[i]) \\\n",
    "                            for i in xrange(C) ]\n",
    "\n",
    "fnc_not_donors = [ (1 - is_donor[i]) * cvxpy.sum_entries(f[i*C:i*C + C]) == 0 for i in xrange(C) ]\n",
    "fnc_donors = [ is_donor[i] * cvxpy.sum_entries(f[i:C*C:C]) == 0 for i in xrange(C) ]\n",
    "\n",
    "obj = Minimize(c * f)\n",
    "\n",
    "constraints = flows_are_positive + flow_network_constraints + fnc_not_donors + fnc_donors\n",
    "\n",
    "#print installed_solvers()\n",
    "\n",
    "prob = Problem(obj, constraints)\n",
    "res = prob.solve(feastol=1e-8) # verbose=True, \n",
    "print \"Result: \", res\n",
    "eps = 0.00001\n",
    "print \"Flows size: \", f.value[np.where( f.value > eps )] \n",
    "# print cvxpy.sum_entries(f[13:C*C:C]).value"
   ]
  },
  {
   "cell_type": "markdown",
   "metadata": {},
   "source": [
    "I've tried several similar min cost max flow models. All of them gave the same result as this one that is constrained to have an integer valued flows."
   ]
  },
  {
   "cell_type": "markdown",
   "metadata": {},
   "source": [
    "<img src=\"pr2.png\" />"
   ]
  },
  {
   "cell_type": "code",
   "execution_count": 12,
   "metadata": {
    "collapsed": true
   },
   "outputs": [],
   "source": [
    "# initialization\n",
    "\n",
    "import numpy as np\n",
    "import scipy as sp\n",
    "from numpy import random\n",
    "from numpy import matlib\n",
    "import matplotlib.pyplot as plt\n",
    "\n",
    "%matplotlib inline\n",
    "\n",
    "np.random.seed(1)\n",
    "\n",
    "C = 40; # number of clients\n",
    "clients = np.random.rand(2,C); #client positions\n",
    "F = 20; #number of facilities\n",
    "facilities = np.random.rand(2,F);\n",
    "\n",
    "#maximum number of clients per facility\n",
    "capacities = np.array([2, 3, 4, 2, 5, 3, 2, 1, 2, 3, 4, 3, 2, 1, 2, 2, 2, 3, 2, 3]);\n",
    "\n",
    "dx = np.matlib.repmat(clients[0,:],F,1) - np.matlib.repmat(facilities[0,:],C,1).transpose();\n",
    "dy = np.matlib.repmat(clients[1,:],F,1) - np.matlib.repmat(facilities[1,:],C,1).transpose();\n",
    "\n",
    "assignment_costs = 3*(dx*dx + dy*dy); #the assignment cost is the distance squared\n",
    "\n",
    "#opening_costs = np.ones((F,));\n",
    "opening_costs = np.array([1, 2, 1, 2, 1, 1.2, 1.3, 2, 1, 1, 1.4, 2, 1, 1, 1, 1, 1.5, 1.3, 2, 1]);\n",
    "\n",
    "def plot_solution(facilities_opened, clients_assignment):\n",
    "    plt.scatter(clients[0,:], clients[1,:], s=50.0, c=clients_assignment)\n",
    "    plt.scatter(facilities[0,:], facilities[1,:], s=200.0, c=range(F), linewidth = [5*el for el in facilities_opened])\n",
    "    plt.show()"
   ]
  },
  {
   "cell_type": "code",
   "execution_count": null,
   "metadata": {
    "collapsed": true
   },
   "outputs": [],
   "source": [
    "def lp_solve():\n",
    "    \n",
    "\n",
    "def branch_and_bound():\n",
    "    incumbent_value = 1e10\n",
    "    \n",
    "    queue = []"
   ]
  },
  {
   "cell_type": "markdown",
   "metadata": {},
   "source": [
    "<img src=\"pr3.png\" />"
   ]
  },
  {
   "cell_type": "code",
   "execution_count": null,
   "metadata": {
    "collapsed": true
   },
   "outputs": [],
   "source": []
  }
 ],
 "metadata": {
  "kernelspec": {
   "display_name": "Python 2",
   "language": "python",
   "name": "python2"
  },
  "language_info": {
   "codemirror_mode": {
    "name": "ipython",
    "version": 2
   },
   "file_extension": ".py",
   "mimetype": "text/x-python",
   "name": "python",
   "nbconvert_exporter": "python",
   "pygments_lexer": "ipython2",
   "version": "2.7.10"
  }
 },
 "nbformat": 4,
 "nbformat_minor": 0
}
