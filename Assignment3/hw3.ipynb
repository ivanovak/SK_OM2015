{
 "cells": [
  {
   "cell_type": "markdown",
   "metadata": {},
   "source": [
    "<img src=\"pr1.png\" />"
   ]
  },
  {
   "cell_type": "code",
   "execution_count": 1,
   "metadata": {
    "collapsed": true
   },
   "outputs": [],
   "source": [
    "import cvxpy\n",
    "import gurobipy\n",
    "from cvxpy import *\n",
    "import numpy as np"
   ]
  },
  {
   "cell_type": "code",
   "execution_count": 10,
   "metadata": {
    "collapsed": false,
    "scrolled": false
   },
   "outputs": [
    {
     "name": "stdout",
     "output_type": "stream",
     "text": [
      "95.4910638676\n",
      "[(matrix([[ 0.99999998,  0.99999998,  0.99999997,  0.99999993,  3.99999984,\n",
      "          0.48566975,  0.99999983,  2.51433027,  2.00000003,  0.99999993,\n",
      "          1.        ,  0.99999996,  4.99999992,  5.99999995,  2.00000011,\n",
      "          0.51433024,  3.48566972,  3.99999983]]), array([ 40,  41,  45,  46,  70,  94,  98,  99, 150, 151, 155, 172, 175,\n",
      "       176, 177, 194, 199, 277]))]\n",
      "5.67797226463e-13\n"
     ]
    }
   ],
   "source": [
    "np.random.seed(42)\n",
    "\n",
    "# initial matrix\n",
    "m = np.array([[ 5 , 5 , 10, 10, 10 ],\n",
    "              [ 5 , 5 , 10, 20, 10 ],\n",
    "              [ 0 , 5 , 5 , 10,  5 ],\n",
    "              [ 0 , 0 , 0 , 5 ,  0 ]])\n",
    "\n",
    "N, M = m.shape\n",
    "C = N * M\n",
    "\n",
    "# delta matrix\n",
    "d = np.ones((N, M)) * 6\n",
    "d = d - m\n",
    "\n",
    "def cost(i1, j1, i2, j2):\n",
    "    assert(i1 < N and i2 < N and j1 < M and j2 < M and \n",
    "           i1 >= 0 and i2 >= 0 and j1 >= 0 and j2 >= 0)\n",
    "    \n",
    "    if i1 == i2 and j1 == j2:\n",
    "        return 1000000\n",
    "    \n",
    "    return np.sqrt(np.power(np.abs(i1 - i2), 2) + np.power(np.abs(j1 - j2), 2))\n",
    "\n",
    "m = m.reshape(C,1)\n",
    "d = d.reshape(C,1)\n",
    "\n",
    "f = Variable(C * C)\n",
    "c = np.zeros(C * C)\n",
    "\n",
    "for i1 in xrange(N):\n",
    "    for j1 in xrange(M):\n",
    "        for i2 in xrange(N):\n",
    "            for j2 in xrange(M):\n",
    "                c[(i1 * M + j1) * C + (i2 * M + j2)] = cost(i1, j1, i2, j2)\n",
    "                \n",
    "# each cell can either be only a consumer or \"donor\".\n",
    "# otherwise we might get non integer solution\n",
    "def pred(x):\n",
    "    if x < 0:\n",
    "        return 1\n",
    "    \n",
    "    return 0\n",
    "\n",
    "flows_are_positive = [ (f[i] >= 0) for i in xrange(C * C) ]\n",
    "\n",
    "pd = np.vectorize(pred)\n",
    "is_donor = pd(d).reshape(C,)\n",
    "flow_network_constraints = [ (-is_donor[i] * cvxpy.sum_entries(f[i*C:i*C + C]) + \\\n",
    "                             (1 - is_donor[i]) * cvxpy.sum_entries(f[i:C*C:C]) == d[i]) \\\n",
    "                            for i in xrange(C) ]\n",
    "\n",
    "fnc_not_donors = [ (1 - is_donor[i]) * cvxpy.sum_entries(f[i*C:i*C + C]) == 0 for i in xrange(C) ]\n",
    "fnc_donors = [ is_donor[i] * cvxpy.sum_entries(f[i:C*C:C]) == 0 for i in xrange(C) ]\n",
    "\n",
    "obj = Minimize(c * f)\n",
    "\n",
    "constraints = flows_are_positive + flow_network_constraints + fnc_not_donors + fnc_donors\n",
    "\n",
    "prob = Problem(obj, constraints)\n",
    "res = prob.solve(feastol=1e-8) # verbose=True, \n",
    "print res\n",
    "\n",
    "# print zip(f.value[np.where( f.value > 0.00001 )], np.where( f.value > 0.00001 ))\n",
    "# print cvxpy.sum_entries(f[13:C*C:C]).value"
   ]
  },
  {
   "cell_type": "markdown",
   "metadata": {},
   "source": [
    "I've tried several similar min cost max flow models. All of them gave the same result.\n",
    "As you can see some flows are not intergers. Nevertheless solution is optimal."
   ]
  },
  {
   "cell_type": "markdown",
   "metadata": {},
   "source": [
    "<img src=\"pr2.png\" />"
   ]
  },
  {
   "cell_type": "code",
   "execution_count": null,
   "metadata": {
    "collapsed": true
   },
   "outputs": [],
   "source": []
  },
  {
   "cell_type": "markdown",
   "metadata": {},
   "source": [
    "<img src=\"pr3.png\" />"
   ]
  },
  {
   "cell_type": "code",
   "execution_count": null,
   "metadata": {
    "collapsed": true
   },
   "outputs": [],
   "source": []
  }
 ],
 "metadata": {
  "kernelspec": {
   "display_name": "Python 2",
   "language": "python",
   "name": "python2"
  },
  "language_info": {
   "codemirror_mode": {
    "name": "ipython",
    "version": 2
   },
   "file_extension": ".py",
   "mimetype": "text/x-python",
   "name": "python",
   "nbconvert_exporter": "python",
   "pygments_lexer": "ipython2",
   "version": "2.7.10"
  }
 },
 "nbformat": 4,
 "nbformat_minor": 0
}
